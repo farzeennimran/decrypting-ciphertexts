{
  "nbformat": 4,
  "nbformat_minor": 0,
  "metadata": {
    "colab": {
      "provenance": []
    },
    "kernelspec": {
      "name": "python3",
      "display_name": "Python 3"
    },
    "language_info": {
      "name": "python"
    }
  },
  "cells": [
    {
      "cell_type": "markdown",
      "source": [
        "## **Question 1**"
      ],
      "metadata": {
        "id": "tTqZiF9LdUwl"
      }
    },
    {
      "cell_type": "code",
      "source": [
        "ciphertexts = [\n",
        "    \"260f02174c1f094918070c030c5315070601530c0d15180901131e430d1057170810081952050a1f12020a430b170442202649141e1806165715194a0419104a180f07114b11000309550d53040e440b0a0d0158190c4e01180f1c01460703041b4e02141a42061455040b1f480406154b1a041a11001d421f1e481d03051543070542\",\n",
        "    \"214a061e4c1c14001b1c0b10491e1f48180110130d124b0515114d0d171b15170b451d021d490b1e1b511643061619154902011606591c450419191f0612441d01081c034609014f0c1101124607011e48020b0814431d1907034810030b1f41101c0c155616010355030a1f0d141d041f4e170d1c4e0a03051e0d4a0210410b0b0407\",\n",
        "    \"294a0f1a080f03074f1800041a12010d4b0d004101080d07141b0c170b1919520d0d080152001c511b19164304151b070d1c080317150c45191e0203091305081f0448070502491b0d1410530b1e171e48030158090a1d1505100d1603174b0e044e1616150d1f03070f004b09081741020002060a1e0807020f0c4a0901070c1c1342111a\",\n",
        "    \"3c020253050500061d180403001c0848020a530901020f0d08560006110516151c16491c0149011e01560b0e001d120b08010c1b0b591b0a0318150f0b14080f484101124b0b1c1c11550616460f0d190b0e121d1f060a560514481108100417131c061c5a420808114a0d051c030111190b02061c4e180710051a0f4b0d15430d170c580c03\",\n",
        "    \"294a05120f0011081d11451a0c0015090c01530806460a06461718070b1957001c06060716000116551f114302161a1b49131c1b1e005504070117180f18104a04090d084b1201084507011009190003060644111e431e1a0b1f0d0046010e17131c101d124c49351a07014b0a07100a1c0f040758031f11050b0f0f184400110b56120a01021d10010e\",\n",
        "    \"2a0b0418010a1502061b0257000046094b16160207140f0108114d1707151f1c10141c1052000151021e0b000558174204101a04131e10451e0256180f150b1817040c4609070a0412141617154b0b041c0e44194d171c17090d48100e121f411f1d431513030712551e0b4b0a035311070f0f061c4e1c0d041d09180f174f432702420f0f1548\",\n",
        "    \"071847030419071a0a0645110601460b0701120f48140e0403171e06115618145916061b151a4f331415090e0c0b1d0b0712491f130a55071214184a0b5607051d151a091d031b1c0c140853120414030b410d164d1706134a33060d12160f41251a020c131149151c04070e48121b044b191e06164e1b0e1a0f0f0b1f0d0e0d1d560d1e4e0f1c00\",\n",
        "    \"1d1902530a0414493c141116071a05481b11011107150e1b4601081107561a131d0049141508061f060242131f171b0b07100703520b1a061c511b1f191f0703120f1b4a4b0a0c0e011c0a14461f0b4a1a0407171f0743141f14060d0814184117000758061006161a19010f48071d15024314021b051703050101040c440d06091f11140f12011c0a\",\n",
        "    \"0a134700180a120c4f140b134915030c0e16120d4801041e0304030e07180301592c0755160c0d10011342021f1d55000601015706111045120911191e130a09164107004b04080c0e1805000d0e004a3b001019030a0d5607031b1707140e12560f0d1c561601031c18441b1d14030e191a1307580f180b1a031c134b100e431d030014070b011d05060711\",\n",
        "    \"090c01160f1f4505060611120716141b4b0b1d1507460a4812040c000956031a1811491c0149021414181643191756000c55191b13001001571719181d17160e004f482f1f461e0e16551316140e4407090501580c040f1f04151c441601040c1f00061602421b091601440f0d0412150e4e17111d4e180d0202481e03014106161f110c0b080b1644\",\n",
        "    \"200f0b1f034b0b104f1b041a0c530f1b4b10120f01074b1b071a08060f55161c1d45005513044f06071f160a031f560349060c14001c01451a1405190b11014a150e1a462235490c091417004602440207110158190b0b0f4a1101080a530904560f011413421d09550e01081a1f49091300180b174b190e481f1b0b55080f1404411e0b080c051f55100b0e\",\n",
        "]"
      ],
      "metadata": {
        "id": "0z7LogDbXSSB"
      },
      "execution_count": null,
      "outputs": []
    },
    {
      "cell_type": "markdown",
      "source": [
        "Ciphertexts into ascii"
      ],
      "metadata": {
        "id": "St147K2TdZ9F"
      }
    },
    {
      "cell_type": "code",
      "source": [
        "def ascii_ciphertexts(hex_str):\n",
        "    bytes_data = bytes.fromhex(hex_str)\n",
        "    ascii_output = ''.join([chr(b) if 32 <= b <= 126 else '.' for b in bytes_data])\n",
        "    return ascii_output\n",
        "\n",
        "for i, ciphertext in enumerate(ciphertexts):\n",
        "    ascii_output = ascii_ciphertexts(ciphertext)\n",
        "    print(f\"Ciphertext {i+1} in ASCII: {ascii_output}\\n\")\n"
      ],
      "metadata": {
        "colab": {
          "base_uri": "https://localhost:8080/"
        },
        "id": "2IpOfxYSB3fH",
        "outputId": "edc3d687-8ba1-42ee-c1f3-c88759223f37"
      },
      "execution_count": null,
      "outputs": [
        {
          "output_type": "stream",
          "name": "stdout",
          "text": [
            "Ciphertext 1 in ASCII: &...L..I.....S....S........C..W.....R......C...B &I.....W..J...J....K....U.S..D....X..N.....F....N...B..U...H...K......B..H....C..B\n",
            "\n",
            "Ciphertext 2 in ASCII: !J..L.......I..H......K...M......E...I...Q.C....I....Y.E......D.....F..O....F...H....C....H....A....V...U........N...N.....J..A....\n",
            "\n",
            "Ciphertext 3 in ASCII: )J......O.......K..A...........R....R..Q...C...........E..........H...I....S....H..X..........K..N.........K...A...........J......B..\n",
            "\n",
            "Ciphertext 4 in ASCII: <..S...........H..S......V........I..I...V...........Y..........HA..K....U..F..........V..H.........ZB...J...........N......K..C...X..\n",
            "\n",
            "Ciphertext 5 in ASCII: )J........E.......S..F..F.....W.........U..C....I.....U........J....K...E.........D..C......F........LI5...K........X........D...V........\n",
            "\n",
            "Ciphertext 6 in ASCII: *..........W..F.K.........M.........R..Q.....X.B.......E..V........F.........K....D.M.....H....A..C.....U..K..S......N........OC'.B...H\n",
            "\n",
            "Ciphertext 7 in ASCII: ..G.......E...F.....H........V..Y.....O3..........I...U....J.V.............S.....A..M...J3.....A%.....I.....H...K....N...........V..N...\n",
            "\n",
            "Ciphertext 8 in ASCII: ...S...I<......H........F....V....I.......B.........R....Q.........JK.......F..J......C........A...X........H....C...........D...........\n",
            "\n",
            "Ciphertext 9 in ASCII: ..G.....O...I.......H...........Y,.U......B...U....W...E.........A..K..........J;......V........V...V.....D.........X.......K..C............\n",
            "\n",
            "Ciphertext 10 in ASCII: ......E.........K....F.H.....V....I..I.....C..V..U......W........OH/.F...U....D....X.......D.........B....D......N...N....H...A.........D\n",
            "\n",
            "Ciphertext 11 in ASCII:  ....K..O....S..K.....K......U...E.U..O.......V.I......E.......J...F\"5I.....F.D....X....J....S..V....B..U.....I......K..H...U....A......U...\n",
            "\n"
          ]
        }
      ]
    },
    {
      "cell_type": "markdown",
      "source": [
        "Applying XOR on all ciphertexts"
      ],
      "metadata": {
        "id": "qQ_xAz8vdnXK"
      }
    },
    {
      "cell_type": "code",
      "source": [
        "def xor_ciphertexts(hex1, hex2):\n",
        "    bytes1 = bytes.fromhex(hex1)\n",
        "    bytes2 = bytes.fromhex(hex2)\n",
        "    xored = bytes(a ^ b for a, b in zip(bytes1, bytes2))\n",
        "    return xored\n",
        "\n",
        "for i in range(len(ciphertexts)):\n",
        "    for j in range(i + 1, len(ciphertexts)):\n",
        "        xored = xor_ciphertexts(ciphertexts[i], ciphertexts[j])\n",
        "        print(f\"XOR of ciphertext {i+1} and ciphertext {j+1}: {xored}\")"
      ],
      "metadata": {
        "colab": {
          "base_uri": "https://localhost:8080/"
        },
        "id": "Wr1mdRE_8qio",
        "outputId": "392e1e85-f86c-4af8-e645-9074c2247429"
      },
      "execution_count": null,
      "outputs": [
        {
          "output_type": "stream",
          "name": "stdout",
          "text": [
            "XOR of ciphertext 1 and ciphertext 2: b'\\x07E\\x04\\t\\x00\\x03\\x1dI\\x03\\x1b\\x07\\x13EM\\nO\\x1e\\x00C\\x1f\\x00\\x07S\\x0c\\x14\\x02SN\\x1a\\x0bB\\x00\\x03U\\x15\\x1bOL\\x01\\x01\\tS\\x1c\\x00\\r\\x01\\x1dWi$H\\x02\\x18A\\x1aSS\\x0c\\x00U\\x02\\x0bTW\\x19\\x07\\x1b\\x12\\r\\x18\\x01L\\x05D\\x0cAB\\tE\\x15B\\x0f\\nP\\rOS\\x18\\x1f\\x0cT\\x11E\\x0c\\x1cE\\x0bR\\x0e\\x01LT\\x07\\x17\\x00\\x07\\x01\\x00E\\x10\\x1b\\x11TT\\x13\\x17\\rN\\x17A\\x1a\\x00EW\\x01\\x15TH\\x0c\\x01E'\n",
            "XOR of ciphertext 1 and ciphertext 3: b'\\x0fE\\r\\rD\\x10\\nNW\\x1f\\x0c\\x07\\x16A\\x14\\nM\\x0cSM\\x0c\\x1d\\x15\\x0e\\x15\\x08\\x12T\\x06\\tNE\\x05\\x1d\\x00\\x18\\x00\\x05\\x16N\\t\\x1b\\x1c\\x00\\x0f\\x02\\x1fE-:A\\x17\\t\\r\\nSN\\x0b\\x1bI\\r\\n\\x15B\\x07\\x0bO\\x16N\\x13I\\x18\\x04A\\x1d\\x00\\x0f\\x10S\\x15B\\x0e\\x00\\x00\\x10\\x06S\\x14\\x1d\\x1f\\x11\\x17E\\x10H\\n\\x1f\\x00\\x14\\x02\\x0fO\\x19\\x17R\\x0b\\x0bTA\\x0c\\x11TI\\x1a\\x06\\x1c\\x1b\\x1e\\x15E\\x1d\\x11DW\\n\\x04\\x12O\\x1b\\x16\\x00'\n",
            "XOR of ciphertext 1 and ciphertext 4: b\"\\x1a\\r\\x00DI\\x1a\\tO\\x05\\x1f\\x08\\x00\\x0cO\\x1dO\\x04\\x0b\\x00\\x05\\x0c\\x17\\x17\\x04\\tE\\x1eE\\x1c\\x15A\\x02\\x14\\x06A\\x05SL\\x0b\\x01\\x13T\\x01M\\x0b\\n\\x16I('E\\x0f\\x15A\\x1d\\x1cT\\r\\x0cE\\x0f\\r\\x18EPN\\x06\\x03\\x00\\x1a\\x1c\\x1f\\x18\\x00\\x0bEB\\x01I\\x12\\x01\\x03\\x13E\\x06\\nDW\\x1d\\x1bT\\x10N\\x17\\x07\\x13\\x08R\\x04\\x08@\\x00\\x0e\\x1cDN\\x06\\x1aT\\x07\\x07\\x04R\\x11\\x06\\x1c\\rN\\x05E\\x0f\\x1bR\\x12H\\x08\\x00\\x00\\n\\x12N\"\n",
            "XOR of ciphertext 1 and ciphertext 5: b'\\x0fE\\x07\\x05C\\x1f\\x18A\\x05\\x16I\\x19\\x00S\\x00\\x0e\\n\\x00\\x00\\x04\\x0bS\\x12\\x0fG\\x04\\x06D\\x06\\t\\x00\\x17\\x14\\x16\\x0e\\x1eD\\x05\\x0b\\tG\\x1d\\x1b\\x00\\t\\x01\\x1eYi5U\\x0f\\x00\\x18S\\x12P\\x14\\x0eR\\x0b\\x01\\x00\\x00\\x1c\\x06\\n\\x19\\x00\\x03\\x01\\x0bLR\\x0cC\\r\\x17D\\x08\\x0c\\x0bEI\\x07OP\\x1b\\x13\\x10\\x11\\x01\\x00\\x06\\r\\x13\\x08R\\x12\\t\\x08\\x0eO!O\\x03\\nTB\\x03\\x16\\x1fW\\x15\\x00\\x1dI\\x03\\x02S\\x1a\\x15G\\x12\\x1bA\\x15R\\x0cSP'\n",
            "XOR of ciphertext 1 and ciphertext 6: b'\\x0c\\x04\\x06\\x0fM\\x15\\x1cK\\x1e\\x1c\\x0eT\\x0cSS\\x0eM\\x17E\\x0e\\n\\x01\\x17\\x08\\t\\x02ST\\n\\x05H\\x0b\\x18\\x04\\x14\\t\\x00\\x05\\x0bN\\x10\\x1c\\x01C\\x0eO\\x13\\x00$6S\\x10\\r\\x06\\x16SI\\x17OR\\x0b\\x0c\\x1bR\\x0f\\x0b\\x0bWB\\x16\\n\\x07\\x1bA\\x1bD\\x11EO\\x0f\\x16\\x03EAT\\x1bR\\x16\\x11\\x02T\\x11H\\x15\\x1cE\\x04SA\\x01\\tA\\x01\\x06\\x00\\x1a\\x00TB\\x07U\\x04L\\x15\\x0b\\x1c\\rN\\x01O\\x1b\\x03A\\x05\\x0c\\x12Z\\x00 \\x07\\x00'\n",
            "XOR of ciphertext 1 and ciphertext 7: b\"!\\x17E\\x14H\\x06\\x0eS\\x12\\x01I\\x12\\nRS\\x0c\\x01\\x00A\\x03E\\x01\\x16\\r\\x02\\x04\\x00E\\x1cFO\\x03Q\\x06\\x0e\\x02G\\x1fE,\\x06\\x17\\x03M\\x07\\x1c\\x19I'4\\x00\\x0b\\r\\x12S\\x11E\\x01\\x01\\x00\\x0fO\\x17O\\x05\\x1a\\x1d\\x18V\\x12\\x1b\\x1f\\x05A\\x05\\x00\\x16\\nP\\x08\\x01L\\x0cNT\\x1bH\\x12R<\\x1a\\x0cT\\x11\\x0cE>T\\x00\\x18\\tSO\\x01I\\x00\\x0c\\x11\\x00\\x16\\x1d\\x11\\x00\\x03\\x1a\\x1c\\x07N\\x06L\\x05\\x11G\\x16\\x1c\\x08\\x1bN\\x1aSO\"\n",
            "XOR of ciphertext 1 and ciphertext 8: b\";\\x16\\x00DF\\x1b\\x1d\\x00$\\x13\\x1d\\x15\\x0bI\\x10O\\x1d\\x10R\\x1d\\n\\x00\\x16\\x12G\\x12\\x16R\\nFM\\x04\\x15\\x10A\\rG\\r\\x0c\\x00\\x14\\x00HP\\x14\\x00\\x1fI'6N\\x17L\\x13\\x1c\\x10KD\\x02U\\x1d\\x06\\x17I\\n\\x00\\x1c[\\x00\\x1b\\x0c\\r\\x08I\\x07GB\\x11OA\\x10\\t\\x06O\\x06\\x0b\\r\\x15\\x07\\x1b\\x1a\\x0cN\\x13\\x1bE\\x0cN\\x05L\\x1cR\\x00\\x02O\\x1d\\n\\x10\\x00\\x03\\x1b\\x00IY\\x10\\x18\\n\\x05\\nA\\x1a\\x1fI\\x19\\x0fA\\x18E\\x0e\\x1aS\"\n",
            "XOR of ciphertext 1 and ciphertext 9: b\",\\x1cE\\x17T\\x15\\x1bEW\\x13\\x07\\x10EF\\x16\\x0b\\x08\\x17A\\x01E\\x14\\x1c\\x17\\x02\\x17\\x1dM\\n\\x08T\\x16Q<\\x0fLD\\t\\x07\\x0f\\x13\\x11HA\\x14\\nQB&'HC\\x18\\t\\x16SE\\x1c\\x08S\\x1a\\n\\x1aC\\x0eN\\x00\\x11\\x00\\x15\\x08\\x0f\\x07M\\x08S\\t\\x00DA1\\r\\x11A\\x1a\\x06CW\\x1f\\x0c\\x07\\x16A\\x13\\r\\x16MA\\x0f\\x08LT\\x07\\x17I\\x1cO\\x04U\\x10\\x05\\x1bR\\x00\\x17\\x1dI\\x0f\\x05I\\x05\\x1dT\\x0eH\\x15\\x1b\\x00\\x1a\\x06B\"\n",
            "XOR of ciphertext 1 and ciphertext 10: b'/\\x03\\x03\\x01C\\x00LL\\x1e\\x01\\x1d\\x11\\x0bE\\x01\\x1cM\\nN\\x19\\nS\\x12A\\x13\\x17\\x12C\\x04FT\\r\\x10\\x01A\\x05SL\\x08\\x0b\\x06\\x1a\\x1c\\x00\\x12\\x00RB,sP\\x0f\\r\\x18\\x16\\x17\\x00\\x02\\x00R\\x19\\x0e\\x06D\\x18@O>TW\\x1e\\r\\x1f\\x00\\x1eE\\x10\\x00\\x00\\x0c\\x03\\x08\\x00\\x00\\x15\\x08A\\x1e\\x1c\\x1a\\x00EP\\x06\\x07\\x08\\x04N\\x04\\x02\\x18\\x00\\x1d\\x1dC\\x05O\\x10E\\x00\\x14\\x00ET\\x13\\x0b\\x0cN\\x05O\\x1d\\x1c\\x00\\x03\\x00\\x04TE\\x11\\x1aS'\n",
            "XOR of ciphertext 1 and ciphertext 11: b'\\x06\\x00\\t\\x08OT\\x02YW\\x1c\\x08\\x19\\x00\\x00\\x1a\\x1cM\\x11A\\x03\\x0c\\x12S\\x12\\x06\\t\\x16E\\x02EA\\x0b\\x15U\\x08LA\\x01E\\x19\\x15\\x1d\\x1cI\\x08\\x08RAi E\\x00\\x1e\\x04\\x07SM\\x01\\x1cS\\x0f\\x08\\x11\\x00\\r\\x01\\x1dWi$I\\x0f\\x00A\\x1aSB\\x0c\\x00\\t\\r\\x1c\\x00\\x00\\x00\\x07E\\x0eR\\x1e\\x1d\\tLT\\n\\x00MA\\x03\\x00\\t\\x00\\x1b\\x1d\\x00\\n\\n\\x17R\\x1bO\\x1cX\\x1a\\x1c\\x11\\x06K\\x04LW\\x01S\\x16V\\r\\x1aW\\x03D\\\\'\n",
            "XOR of ciphertext 2 and ciphertext 3: b'\\x08\\x00\\t\\x04D\\x13\\x17\\x07T\\x04\\x0b\\x14S\\x0c\\x1eES\\x0c\\x10R\\x0c\\x1aF\\x02\\x01\\nA\\x1a\\x1c\\x02\\x0cE\\x06H\\x15\\x03OI\\x17O\\x00H\\x00\\x00\\x02\\x03\\x02\\x12D\\x1e\\t\\x15\\x11L\\x10\\x00\\x1d\\x07\\x1b\\x1c\\x0f\\x01A\\x15\\x1e\\x0cT\\x04C\\x0bHT\\x01\\x05\\x11AM\\x19\\x16\\x00\\x00\\x01\\nP\\x1dI\\x00\\x0c\\x02\\x13E\\x06\\x00\\x1cTO\\x14R\\x1a\\x03C\\x1b\\x1e\\x00R\\x0c\\nT\\x04\\x1c\\nE\\x1dN\\x15\\x0b\\x16P\\x02\\x04\\x07\\x11\\x01\\x00\\x0b\\x11F\\x07\\x17\\x17E'\n",
            "XOR of ciphertext 2 and ciphertext 4: b'\\x1dH\\x04MI\\x19\\x14\\x06\\x06\\x04\\x0f\\x13I\\x02\\x17\\x00\\x1a\\x0bC\\x1a\\x0c\\x10D\\x08\\x1dGM\\x0b\\x06\\x1e\\x03\\x02\\x17ST\\x1e\\x1c\\x00\\n\\x00\\x1a\\x07\\x1dM\\x06\\x0b\\x0b\\x1eA\\x03\\r\\r\\r\\x00\\x07O\\x07\\x01\\x0c\\x10\\r\\x06L\\x12II\\x1d\\x11\\r\\x02\\x1dS\\x1dD\\x07\\x04\\x00\\x08\\x0c\\x07C\\x0c\\x19\\x15\\x0bE\\x17O\\x02\\x17\\x00\\x01\\x0b\\x1b\\x1bV\\x03\\x00\\n\\t\\x0cT\\t\\x0bDI\\x07\\x1a\\x11\\x17\\x1c\\x15\\x06E\\x15\\x0b\\x00\\x00\\x12\\x04\\x15\\x1b\\x17EI\\x1dTH\\x06\\x13\\x0b'\n",
            "XOR of ciphertext 2 and ciphertext 5: b'\\x08\\x00\\x03\\x0cC\\x1c\\x05\\x08\\x06\\rN\\nE\\x1e\\nA\\x14\\x00C\\x1b\\x0bTA\\x03S\\x06U\\n\\x1c\\x02B\\x17\\x17C\\x1b\\x05\\x0bI\\n\\x08NN\\x07\\x00\\x04\\x00\\x03\\x0e\\x00\\x11\\x1d\\r\\x18YIA\\x03\\x18\\x0e\\x07\\t\\nTW\\x05\\x01\\x11\\x0b\\r\\x1b\\x00GI\\x16\\x00\\x02O\\x1e\\x01\\x1dN\\x04O\\x19\\n\\x00\\x03\\x03\\x0c\\x1cE\\x10E\\n\\x11V\\x03\\x00\\x1c\\x08DZH6O\\x04\\x0bT\\x07\\x13\\r\\x0e\\x03A\\x13\\nDM\\x15\\x12\\x00\\x15\\x02E\\x1aTA\\x1a\\x00R\\x15'\n",
            "XOR of ciphertext 2 and ciphertext 6: b'\\x0bA\\x02\\x06M\\x16\\x01\\x02\\x1d\\x07\\tGI\\x1eYAS\\x17\\x06\\x11\\n\\x06D\\x04\\x1d\\x00\\x00\\x1a\\x10\\x0e\\n\\x0b\\x1bQ\\x01\\x12OI\\nO\\x19O\\x1dC\\x03N\\x0eWM\\x12\\x1b\\x12\\x15G\\x0c\\x00\\x1a\\x1bO\\x07\\t\\x07O\\x05\\x16\\x0c\\x10EO\\x0e\\x0bK\\x1e\\x05\\x17\\x05SL\\n\\x1aT\\x0cO\\x11YT\\x01\\x0e\\x0e\\x0e\\x00\\x00\\r\\x19\\x00\\x00\\x0f\\x01O\\x00E\\x15\\x06\\x11\\x00\\x1d\\x01T\\x07\\x17N\\x15\\x18A\\x18\\x0b\\x00\\x00\\x16\\x0e\\x01\\x03\\x04R\\r\\x07\\x0eH,\\x06E'\n",
            "XOR of ciphertext 2 and ciphertext 7: b'&RA\\x1dH\\x05\\x13\\x1a\\x11\\x1aN\\x01O\\x1fYC\\x1f\\x00\\x02\\x1cE\\x06E\\x01\\x16\\x06S\\x0b\\x06M\\r\\x03RS\\x1b\\x19\\x08SD-\\x0fD\\x1fM\\n\\x1d\\x04\\x1eN\\x10H\\t\\x15SIB\\x16\\r\\x01U\\rDC\\x18\\x1c\\x1d\\x06\\n[\\n\\x1aS\\x00\\x05\\tAT\\x03\\x15\\x1dCC\\x06\\x1eYT\\x1b\\nM0N\\x1d\\x11\\x1d\\x10\\x005\\x06\\x0e\\x19E\\x07H\\x16I\\x07\\r\\x11E\\x06\\x06\\x00TW\\t\\x0b\\n\\x00\\x11\\r\\x1f\\x11\\x02A\\x1d\\x1dO\\x06\\x16R\\n'\n",
            "XOR of ciphertext 2 and ciphertext 8: b\"<S\\x04MF\\x18\\x00I'\\x08\\x1a\\x06N\\x04\\x1a\\x00\\x03\\x10\\x11\\x02\\n\\x07E\\x1eS\\x10E\\x1c\\x10M\\x0f\\x04\\x16ET\\x16\\x08A\\r\\x01\\x1dSTP\\x19\\x01\\x02\\x1eN\\x12\\x06\\x15TR\\x06C\\x18H\\x02\\x00\\x1f\\rC\\x1e\\x13\\x07\\x07I\\r\\x03\\rA\\r\\r\\x0b\\x06\\x00\\x18\\nTR\\x06\\x0c\\x1f\\x0bD^\\r\\x18\\x17N\\x1d\\x0b\\x1f\\x07\\x00\\x07\\x1c\\x0bMP\\x06\\x07\\x15O\\x1a\\x0b\\x10E\\x13\\x00\\x11\\x1d\\r\\x03\\x0f\\x07K\\x1d\\x00\\x00\\x1f\\x0cN\\x0eTL\\r\\x02\\x1b\\x16\"\n",
            "XOR of ciphertext 2 and ciphertext 9: b'+YA\\x1eT\\x16\\x06\\x0cT\\x08\\x00\\x03\\x00\\x0b\\x1cD\\x16\\x17\\x02\\x1eE\\x13O\\x1b\\x16\\x15N\\x03\\x10\\x03\\x16\\x16Ri\\x1aW\\x0bE\\x06\\x0e\\x1aBTA\\x19\\x0bL\\x15O\\x03\\x00A\\x00H\\x0c\\x00\\x16\\x10\\x08\\x06\\x18\\x01N\\x14\\x17I\\x1b\\x03\\r\\r\\tC\\x02\\t\\x04\\x12K\\t\\x01Ts\\x02\\x1b\\x11\\x17I\\x10O\\x00\\x00S\\x07\\x04\\x1f\\x11SF\\x13\\x01\\t\\x00\\x00\\x00\\x00I\\x1bN\\x04\\x10\\x00\\x1e\\n\\x06T\\x04\\nDA\\x12\\x08\\x1f\\x1d\\x11YI\\x00OH\\x16\\x07\\x07'\n",
            "XOR of ciphertext 2 and ciphertext 10: b'(F\\x07\\x08C\\x03Q\\x05\\x1d\\x1a\\x1a\\x02N\\x08\\x0bSS\\n\\r\\x06\\nTAM\\x07\\x15A\\r\\x1eM\\x16\\r\\x13TT\\x1e\\x1c\\x00\\t\\n\\x0fI\\x00\\x00\\x1f\\x01O\\x15EW\\x18\\r\\x15Y\\x0cDS\\x0e\\x00\\x07\\x1b\\x05R\\x13\\x01GT,YO\\x1fA\\x1aD\\x12\\x04R\\tE\\x19A\\x07\\nP\\x18G\\x12\\x06\\x03\\x16TT\\x15\\n\\x1bM\\x0f\\x1c\\n\\x03TT\\x1a\\nC\\x02N\\x10\\x00\\x10\\x0f\\x11\\x11\\x00\\x00\\x1c\\x01\\x00\\x12\\x0e\\x07\\x1cET\\x01\\x11\\x00\\r\\x1d\\x1b\\x16'\n",
            "XOR of ciphertext 2 and ciphertext 11: b'\\x01E\\r\\x01OW\\x1f\\x10T\\x07\\x0f\\nEM\\x10SS\\x11\\x02\\x1c\\x0c\\x15\\x00\\x1e\\x12\\x0bE\\x0b\\x18N\\x03\\x0b\\x16\\x00\\x1dW\\x0eMD\\x18\\x1cN\\x00I\\x05\\tO\\x16\\x00\\x04\\r\\x02\\x06E\\x1d\\x00\\x1e\\r\\x1c\\x06\\r\\x03EW\\x14\\x06\\x06Ed<HC\\x05\\x05\\x16\\x12\\x00\\x05E\\x1cO\\x13\\nP\\rH\\x16\\x16M\\x12I\\x18\\tX\\x16EF\\x13\\r\\x01ET\\x1c\\n\\x00\\r\\x0b\\x17\\x17\\x0bT\\r\\x0cN\\x0f\\x06\\x0b\\x05\\x13\\rM\\x01\\x16AW\\x18N\\x1f\\x0fE\\x19'\n",
            "XOR of ciphertext 3 and ciphertext 4: b'\\x15H\\rI\\r\\n\\x03\\x01R\\x00\\x04\\x07\\x1a\\x0e\\tEI\\x07SH\\x00\\n\\x02\\n\\x1cM\\x0c\\x11\\x1a\\x1c\\x0fG\\x11\\x1bA\\x1dSI\\x1dO\\x1aO\\x1dM\\x04\\x08\\t\\x0c\\x05\\x1d\\x04\\x18\\x1cL\\x17O\\x1a\\x06\\x17\\x0c\\x02\\x07\\r\\x07WEI\\x15N\\tU\\x07\\x1cA\\x16EM\\x11\\x1a\\x07C\\r\\x13E\\x16\\x0c\\x17C\\x00\\x04E\\x07\\x0b\\x07O\\x19\\x17R\\x10\\nOO\\x17\\x0b\\x16E\\rN\\x15\\x0b\\x16P\\x1b\\x0b\\x00\\x00\\x16P\\x10\\x00\\x12\\n\\x16EB\\x0c\\x12O\\x11\\x04NI\\x16'\n",
            "XOR of ciphertext 3 and ciphertext 5: b'\\x00\\x00\\n\\x08\\x07\\x0f\\x12\\x0fR\\tE\\x1e\\x16\\x12\\x14\\x04G\\x0cSI\\x07N\\x07\\x01R\\x0c\\x14\\x10\\x00\\x00NR\\x11\\x0b\\x0e\\x06D\\x00\\x1dGN\\x06\\x07\\x00\\x06\\x03\\x01\\x1cD\\x0f\\x14\\x18\\t\\x15YA\\x1e\\x1f\\x15\\x1b\\x06\\x0b\\x15B\\x1b\\rE\\x0fN\\x10H\\x13H\\x13\\x11C\\x02\\x07\\x17\\x1dN\\x05EI\\x17I\\x03\\x0f\\x0e\\x0f\\x00\\x16E\\x16E\\x19\\x17R\\x06\\x0b\\x07AV6\\x1d\\x08\\x01\\x00\\x03\\x0f\\x07K\\x1e\\x0f\\x06\\x01R\\x1d\\x17\\x16\\x07\\x04\\x03E\\x11E\\x07\\x1d\\x17EP\\x1b\\x1b'\n",
            "XOR of ciphertext 3 and ciphertext 6: b'\\x03A\\x0b\\x02\\t\\x05\\x16\\x05I\\x03\\x02S\\x1a\\x12G\\x04\\x00\\x1b\\x16C\\x06\\x1c\\x02\\x06\\x1c\\nA\\x00\\x0c\\x0c\\x06N\\x1d\\x19\\x14\\x11\\x00\\x00\\x1d\\x00\\x19\\x07\\x1dC\\x01M\\x0cE\\t\\x0c\\x12\\x07\\x04\\x0b\\x1c\\x00\\x07\\x1cT\\x1b\\x06\\x06\\x0e\\x10\\x08\\x00DA\\x0c\\x05C\\x1f\\x1f\\x00\\x06D\\x1eU\\x1c\\x1aT\\rEAD\\x1d\\x01\\x02\\x0c\\x1dE\\x06\\r\\x05TO\\x1bSU\\x03\\x06\\x0e\\x18\\x11R\\x11\\x0b\\x00\\x03\\x0bDP\\x05\\x0f\\r\\x00\\x16P\\x14\\n\\x06\\x12\\x05R\\x06\\x16HO;\\x11\\x00\\x1e\\x15'\n",
            "XOR of ciphertext 3 and ciphertext 7: b'.RH\\x19\\x0c\\x16\\x04\\x1dE\\x1eE\\x15\\x1c\\x13G\\x06L\\x0c\\x12NI\\x1c\\x03\\x03\\x17\\x0c\\x12\\x11\\x1aO\\x01FT\\x1b\\x0e\\x1aG\\x1aSb\\x0f\\x0c\\x1fM\\x08\\x1e\\x06\\x0c\\n\\x0eA\\x1c\\x04\\x1fYB\\x0b\\n\\x1aI\\x02E\\x02\\r\\x02\\x11R\\x0e\\x18\\x01R\\x07\\x01\\x00\\x18\\x00\\x19\\x1a\\x03\\x1dCB\\x0cND\\x1d\\x1b\\x06O#\\x0b\\x1b\\x11\\x01DO!T\\x14\\x1a\\x06\\x1cV\\x16\\x1b\\x0b\\x07EA\\x1a\\x0cEI\\x19\\x1c\\x00\\x1cP\\x13\\t\\x18\\x00\\x03A\\x16\\x0c\\t\\x01\\x01EO\\x0fT'\n",
            "XOR of ciphertext 3 and ciphertext 8: b'4S\\rI\\x02\\x0b\\x17Ns\\x0c\\x11\\x12\\x1d\\x08\\x04EP\\x1c\\x01P\\x06\\x1d\\x03\\x1cR\\x1a\\x04\\x06\\x0cO\\x03A\\x10\\rA\\x15G\\x08\\x1aN\\x1d\\x1bTP\\x1b\\x02\\x00\\x0c\\n\\x0c\\x0f\\x00E\\x1e\\x16C\\x05O\\x19\\x1c\\x10\\x0c\\x02\\x0b\\r\\x0bSMN\\x08E\\x15\\x0c\\x08\\x1aGM\\x01\\x1cTR\\x07\\x06O\\x16\\r^\\x01\\x1a\\x04\\x0b\\x1b\\x0b\\x03SO\\x13N\\x11N\\x13\\x1d\\x19\\x15\\x1d\\x16\\x01DA\\x0f\\nT\\x00C\\x16\\x04\\x11\\x1b\\x1f\\x04\\x07\\x0e\\rN\\x05E\\n\\n\\x15\\x0cS\\x05\\x15'\n",
            "XOR of ciphertext 3 and ciphertext 9: b'#YH\\x1a\\x10\\x05\\x11\\x0b\\x00\\x0c\\x0b\\x17S\\x07\\x02\\x01E\\x1b\\x12LI\\t\\t\\x19\\x17\\x1f\\x0f\\x19\\x0c\\x01\\x1aST!\\x0fTD\\x0c\\x11A\\x1a\\nTA\\x1b\\x08N\\x07\\x0b\\x1d\\tT\\x11\\x04\\x1c\\x00\\x0b\\x17\\x13\\x1a\\x17\\x00\\x0f\\x01\\tEO\\x07N\\x06A\\x17\\x03\\x0c\\x15S\\x06\\x10\\x17Ts\\x03\\x11A\\n\\x00\\x10C\\x02\\x13\\x16\\x01\\x04\\x03E\\x1cRA\\x1b\\nC\\x1b\\x1e\\x00\\x1b\\x17DP\\x14\\x1c\\x14O\\x1b\\x1a\\x11\\x01R\\x11\\x10\\x0c\\x18\\x0c\\x10YB\\x11\\tO\\x01\\x10B\\x05\\x1d'\n",
            "XOR of ciphertext 3 and ciphertext 10: b' F\\x0e\\x0c\\x07\\x10F\\x02I\\x1e\\x11\\x16\\x1d\\x04\\x15\\x16\\x00\\x06\\x1dT\\x06N\\x07O\\x06\\x1f\\x00\\x17\\x02O\\x1aH\\x15\\x1cA\\x1dSI\\x1eE\\x0f\\x01\\x00\\x00\\x1d\\x02M\\x07\\x01I\\x11\\x18\\x04\\x15\\x1cDN\\t\\x1b\\x1b\\x14\\x04\\x13\\x06\\x1fK\\x00(\\x1aDW\\x15\\x1bA\\x03E\\x1f\\x10S\\x19A\\x06\\x00\\x00\\x05\\x0e\\x12\\n\\x01\\x05\\x11R\\x15\\x16O\\x02\\x1bN\\x10\\x00\\x17O\\x04\\n\\x11\\x0eDD\\x04\\x0c\\x05T\\x0cN\\x15\\x17\\x17P\\x10\\n\\x00\\rDT\\n\\x00F\\n\\n\\x0cS\\x1d\\x11'\n",
            "XOR of ciphertext 3 and ciphertext 11: b\"\\tE\\x04\\x05\\x0bD\\x08\\x17\\x00\\x03\\x04\\x1e\\x16A\\x0e\\x16\\x00\\x1d\\x12N\\x00\\x0fF\\x1c\\x13\\x01\\x04\\x11\\x04L\\x0fN\\x10H\\x08TA\\x04SW\\x1c\\x06\\x00I\\x07\\nM\\x04D\\x1a\\x04\\x17\\x17\\t\\r\\x00\\x03\\n\\x07\\x1a\\x02\\x02\\x04B\\n\\nRA'7\\x00\\x17\\x04\\x00\\x07SM\\x1cS\\x1cO\\x12\\x00\\x00\\x10\\x01\\x16\\x1aO\\x01\\x0c\\x1e\\tDB\\nRA\\x17\\x02\\x06O\\x02\\nR\\x01\\x01C\\x13\\x17^H\\x11\\x00\\x1a\\r\\x1dU\\x11\\tJ\\x10\\x17A\\\\\\t\\x08\\x18\\x18R\\\\\\x1a\\x12\"\n",
            "XOR of ciphertext 4 and ciphertext 5: b'\\x15H\\x07A\\n\\x05\\x11\\x0e\\x00\\tA\\x19\\x0c\\x1c\\x1dA\\x0e\\x0b\\x00\\x01\\x07D\\x05\\x0bNA\\x18\\x01\\x1a\\x1cA\\x15\\x00\\x10O\\x1b\\x17I\\x00\\x08TI\\x1aM\\x02\\x0b\\x08\\x10A\\x12\\x10\\x00\\x15YN\\x0e\\x04\\x19\\x02\\x17\\x04\\x0c\\x18ELH\\x0c\\x1a\\x00\\x19\\x1d\\x14TR\\x07\\x06O\\x16\\r\\x1a\\r\\x08V\\x0c\\x01E\\x14L\\x0e\\x0bE\\x11N\\x11\\n\\x00\\x00\\x00\\x16\\x01H\\x0eA=\\x0bM\\x0cN\\x16\\x04\\x11\\x1b\\x05\\x04\\x06\\x01DM\\x07\\x16\\x15\\x0e\\x15\\x00SI\\x15R\\x06A\\x1eR\\r\\x01'\n",
            "XOR of ciphertext 4 and ciphertext 6: b'\\x16\\t\\x06K\\x04\\x0f\\x15\\x04\\x1b\\x03\\x06T\\x00\\x1cNAI\\x1cE\\x0b\\x06\\x16\\x00\\x0c\\x00GM\\x11\\x16\\x10\\t\\t\\x0c\\x02U\\x0cSI\\x00O\\x03H\\x00\\x0e\\x05E\\x05I\\x0c\\x11\\x16\\x1f\\x18G\\x0bO\\x1d\\x1aC\\x17\\x04\\x01\\x03\\x17_E\\rTB\\x0c\\x16\\x18\\x03A\\x10\\x01SD\\x06\\x1d\\x17\\x00V\\x04R\\x11\\x16A\\x0c\\x19\\x00\\x01\\x06\\x02\\x1bV\\x0c\\x01E\\tIA\\x0f\\x1aDT\\x06N\\x16\\x00R\\x00\\x1e\\x04\\r\\x00\\x00\\x00\\x04\\n\\x14\\x18\\x13\\x17D\\x1aZ\\x00*\\x15NW\\x03\\x16'\n",
            "XOR of ciphertext 4 and ciphertext 7: b\";\\x1aEP\\x01\\x1c\\x07\\x1c\\x17\\x1eA\\x12\\x06\\x1dNC\\x05\\x0bA\\x06I\\x16\\x01\\t\\x0bA\\x1e\\x00\\x00S\\x0e\\x01E\\x00O\\x07\\x14SN-\\x15C\\x02\\x00\\x0c\\x16\\x0f\\x00\\x0f\\x13E\\x04\\x18SN\\r\\x11\\x0c\\rE\\x00B\\x0f\\nUT\\x1b\\x1bV\\x08\\x07\\x00\\x1dA\\x0eET\\x0b\\x19\\x1a\\x00O\\x1f\\x0bR\\x11\\x0cEO'N\\x1c\\x1a\\x06\\x0bV6\\x06\\x04\\x10ISA\\x1d\\rN\\n\\x0bT\\x11\\x1a\\x15R\\x12\\x1c\\x00\\n\\x00\\x03\\t\\n\\n\\x15\\x04T\\x00\\x1bN\\x10A\\x01FB\\x0c\"\n",
            "XOR of ciphertext 4 and ciphertext 8: b'!\\x1b\\x00\\x00\\x0f\\x01\\x14O!\\x0c\\x15\\x15\\x07\\x06\\r\\x00\\x19\\x1bR\\x18\\x06\\x17\\x01\\x16NW\\x08\\x17\\x16S\\x0c\\x06\\x01\\x16\\x00\\x08\\x14A\\x07\\x01\\x07TI\\x1d\\x1f\\n\\t\\x00\\x0f\\x11\\x0b\\x18YR\\x01\\x0c\\x1fI\\x0e\\x10\\x12\\x0b\\x0f\\x0cZN\\x1aX\\x00\\x01\\x10\\x12\\x10I\\x0c\\x02\\x00\\x10\\x06S\\x11\\n\\x15\\n\\x00\\x01IB\\x1a\\x00N\\x1c\\x00\\x04\\x1cV\\x04\\x1c\\x01D\\\\R\\x0e\\x1e\\x0bS\\x0c\\nT\\x04\\x1c\\x04\\x1bH\\x16\\x04\\x07K\\x0f\\x04\\x15\\x04\\x1b\\x0bGI\\x18E\\x04\\x08\\x1dL\\x03\\x11'\n",
            "XOR of ciphertext 4 and ciphertext 9: b'6\\x11ES\\x1d\\x0f\\x12\\nR\\x0c\\x0f\\x10I\\t\\x0bD\\x0c\\x1cA\\x04I\\x03\\x0b\\x13\\x0bR\\x03\\x08\\x16\\x1d\\x15\\x14E:NI\\x17E\\x0c\\x0e\\x00EI\\x0c\\x1f\\x00G\\x0b\\x0e\\x00\\rL\\rH\\x0bO\\x11\\x11\\x04\\x16\\x15\\x07\\x02\\x06^\\x00\\x06\\x12\\x00\\x0f\\x14\\x10\\x1fM\\x03\\x16K\\x01\\rS0\\x0e\\x02\\x04\\x1c\\x0c\\x07\\x00\\x02\\x17S\\x06\\x0f\\x04\\n\\x05E\\x13\\x0b\\x00\\x0cT\\t\\x0b\\rRI\\x1e\\x01\\x17\\x02\\x1f\\x00\\x11\\x11\\x01DA\\x00\\x0c\\n\\x06\\x06\\x1c\\x00\\x1d\\x1b\\x00\\x10\\x14\\x0cL\\x0b\\x08'\n",
            "XOR of ciphertext 4 and ciphertext 10: b'5\\x0e\\x03E\\n\\x1aE\\x03\\x1b\\x1e\\x15\\x11\\x07\\n\\x1cSI\\x01N\\x1c\\x06D\\x05E\\x1aR\\x0c\\x06\\x18S\\x15\\x0f\\x04\\x07\\x00\\x00\\x00\\x00\\x03\\n\\x15N\\x1dM\\x19\\nD\\x0b\\x04T\\x15\\x00\\x18Y\\x0b\\x0bT\\x0f\\x0c\\x17\\x16\\x03\\x1e\\x01H\\x0eI=TM\\x02\\x12\\x07\\x00\\x15\\x00R\\x01I\\x1e\\x02\\x0b\\x13E\\x13\\x02\\x05I\\x01\\x01TU\\x1e\\x11\\x00\\x1b\\x0c\\x1c\\x00\\nX\\x00\\x13\\x01\\x07KI\\n\\x11\\x07\\x13\\x04\\x17E\\x15\\x17\\x01\\x00\\x00\\n\\x12\\x07R\\x11H\\x0cTE\\x1b\\x08\\x1dT\\x07\\x0b'\n",
            "XOR of ciphertext 4 and ciphertext 11: b'\\x1c\\r\\tL\\x06N\\x0b\\x16R\\x03\\x00\\x19\\x0cO\\x07SI\\x1aA\\x06\\x00\\x05D\\x16\\x0fL\\x08\\x00\\x1eP\\x00\\t\\x01SII\\x12MN\\x18\\x06I\\x1d\\x04\\x03\\x02D\\x08A\\x07\\x00\\x0f\\x0bE\\x1aO\\x19\\x0c\\x10\\x16\\x00\\x05\\tE]O\\x1bTi>U\\x10\\x18A\\x11\\x16\\x00\\rI\\x1b\\x0c\\x1f\\x13E\\x06\\r\\x01YO\\x05I\\x19\\x02C\\r\\x13E\\x13\\x07\\x08I\\x00\\x15\\x01DD\\x0c\\r\\x06\\x1cH\\x18\\n\\x0b\\x1a\\r\\x0b\\x05\\x01\\tX\\x1a\\x01\\x04\\x1e\\x05\\x1aW\\tV\\x12S\\x04\\x0f'\n",
            "XOR of ciphertext 5 and ciphertext 6: b\"\\x03A\\x01\\n\\x0e\\n\\x04\\n\\x1b\\nGM\\x0c\\x00S\\x00G\\x17E\\n\\x01R\\x05\\x07N\\x06U\\x10\\x0c\\x0cH\\x1c\\x0c\\x12\\x1a\\x17D\\x00\\x00GW\\x01\\x1aC\\x07N\\rYM\\x03\\x06\\x1f\\r\\x1eEA\\x19\\x03A\\x00\\x00\\r\\x1bR\\x13\\r\\x01NB\\x15\\x0b\\x0cW\\x13\\x17\\x07\\x1cR\\x0b\\x07\\x1a\\x08\\x00\\x08ST\\x02\\r\\x02\\x12E\\x10H\\x13\\x11V\\x0c\\x01S\\x08\\x01ON'O\\x19\\n\\x00\\x00\\x04C\\x1b\\x1b\\x00\\x0b\\x01DM\\x03\\x1c\\x01\\x16\\x06\\x17\\x17SOR,TP\\x05\\x0e\\x17U\"\n",
            "XOR of ciphertext 5 and ciphertext 7: b'.RB\\x11\\x0b\\x19\\x16\\x12\\x17\\x17\\x00\\x0b\\n\\x01S\\x02\\x0b\\x00A\\x07NR\\x04\\x02E\\x00\\x06\\x01\\x1aOO\\x14E\\x10\\x00\\x1c\\x03\\x1aN%A\\n\\x18M\\x0e\\x1d\\x07\\x10N\\x01U\\x04\\r\\n\\x00\\x03\\x15\\x15\\x0fR\\x04N\\x17O\\x19\\x1c\\x17\\x01V\\x11\\x1a\\x14I\\x13\\tC\\x1b\\x1d\\x14\\x00\\rGI\\x07ST\\x18\\tA,\\x0b\\rT\\x17\\x01V6\\x06\\x12\\x11\\x01]\\x00 \\x06\\x03\\x06EB\\x15\\x0b\\x0eW\\x16\\x1a\\x01NM\\x04\\x1f\\x1f\\x04\\x00\\x04\\x07I\\x0e\\x1c\\x16\\x00\\x1f\\x14O\\r\\x01\\x10'\n",
            "XOR of ciphertext 5 and ciphertext 8: b'4S\\x07A\\x05\\x04\\x05A!\\x05T\\x0c\\x0b\\x1a\\x10A\\x17\\x10R\\x19\\x01S\\x04\\x1d\\x00\\x16\\x10\\x16\\x0cOM\\x13\\x01\\x06O\\x13\\x03\\x08\\x07\\tS\\x1dSP\\x1d\\x01\\x01\\x10N\\x03\\x1b\\x18L\\x0bO\\x02\\x1bP\\x0c\\x07\\x16\\x07\\x17I\\x16\\x06\\x16B\\x00\\x18\\r\\x06D\\x1b\\x0b\\x04O\\x06\\x0bI\\x1c\\x02C\\x06\\x01D]\\x0e\\x14\\x0b\\x0b\\rN\\x15\\x16V\\x04\\x1c\\x17E\\x14\\\\O#\\x00\\x1e\\x00DB\\x00\\r\\x1f\\x1eL\\x10\\x05C\\x06\\x08\\x12\\x00\\n\\x0e\\x0b\\x14\\x00\\r\\x17\\x02I\\x03\\x1e\\x0e\\x10\\x1c\\x0c\\x0b'\n",
            "XOR of ciphertext 5 and ciphertext 9: b'#YB\\x12\\x17\\n\\x03\\x04R\\x05N\\tE\\x15\\x16\\x05\\x02\\x17A\\x05NG\\x0e\\x18E\\x13\\x1b\\t\\x0c\\x01T\\x01E*\\x01R\\x00\\x0c\\x0c\\x06T\\x0cSA\\x1d\\x0bO\\x1bO\\x12\\x1dL\\x18\\x11EA\\x15\\x08\\x06\\x01\\x11\\x0b\\x1aC\\x12H\\n\\x08\\x00\\x16\\t\\x04K\\x1f\\x04\\x10\\x04\\x17\\x00I=\\x06T\\x08\\x1dI\\x13L\\x0c\\x1c\\x16\\x17A\\x15\\x00\\x05E\\x13\\x1d\\x01DZH6\\x06\\x1fEP\\x17\\x13\\x13\\x04\\x05\\x15\\x17\\x00\\x00\\x0c\\x07\\x1a\\x1f\\x08\\x13\\x1cST\\x0eR\\x16U\\x12\\x1e\\x06\\t\\x1c\\r\\x04\\x08'\n",
            "XOR of ciphertext 5 and ciphertext 10: b\" F\\x04\\x04\\x00\\x1fT\\r\\x1b\\x17T\\x08\\x0b\\x16\\x01\\x12G\\nN\\x1d\\x01\\x00\\x00NT\\x13\\x14\\x07\\x02OT\\x1a\\x04\\x17O\\x1b\\x17I\\x03\\x02A\\x07\\x07\\x00\\x1b\\x01L\\x1bEF\\x05\\x00\\r\\x00E\\x05P\\x16\\x0e\\x00\\x12\\x0f\\x06D\\x04FE'TT\\x1f\\x06SR\\x12\\x06\\x1d\\x17D\\x04\\x0f\\x03EI\\x12G\\x11\\x05\\x0f\\n\\x11DP\\x00\\n\\x1b\\x0c\\x1c\\x16\\x0b\\x10\\x0eR<\\x0c\\x06ED\\x07\\x03\\x02\\x1f\\x12A\\x13\\x16EM\\x07\\x1c\\x07\\tG\\x11\\x1bEA\\x17\\x1dI\\x03\\x06\\n\\n\\x16\\x06E\"\n",
            "XOR of ciphertext 5 and ciphertext 11: b\"\\tE\\x0e\\r\\x0cK\\x1a\\x18R\\nA\\x00\\x00S\\x1a\\x12G\\x11A\\x07\\x07AA\\x1dA\\r\\x10\\x01\\x04LA\\x1c\\x01C\\x06R\\x05\\x04N\\x10R\\x00\\x07I\\x01\\tL\\x18\\x00\\x15\\x10\\x0f\\x1e\\x1cTA\\x1d\\x15\\x12\\x01\\x04\\t\\x11\\x00\\x11\\x07\\x17Ni'H\\x04L\\x13\\x16\\x10O\\x1bD\\x01\\x01\\x17EI\\x07H\\x15\\x15A\\x0e\\x0c\\x08LR\\x07\\x13E\\x13\\x11\\t\\x01\\x0eT<O\\t\\x00C\\x10\\x18Y\\x03\\x0f\\x0f\\x1c\\x0cOH\\x06\\x1fM\\x14\\x14\\x04ML\\x0f\\x05\\x0f\\x17\\x0c\\x01\\t\\x0e\\x18\\x0fT\\x1e\"\n",
            "XOR of ciphertext 6 and ciphertext 7: b'-\\x13C\\x1b\\x05\\x13\\x12\\x18\\x0c\\x1dGF\\x06\\x01\\x00\\x02L\\x17\\x04\\rO\\x00\\x01\\x05\\x0b\\x06S\\x11\\x16C\\x07\\x08I\\x02\\x1a\\x0bG\\x1aNb\\x16\\x0b\\x02\\x0e\\tS\\nI\\x03\\x02S\\x1b\\x00\\x14EB\\x0c\\x16NR\\x04C\\x0c\\x1d\\n\\x11\\x16O\\x14\\x04\\x11\\x18\\x1e\\x00\\x1eD\\x07O\\x1f\\x07\\x17OI\\x0f\\x00\\x00\\x1a\\x04C>N\\x1d\\x1c\\x04\\x10\\x00:\\x07A\\x19\\x00\\x12N\\x07I\\x1a\\x0cEB\\x11H\\x15L\\x16\\x11\\x00\\n\\x00\\x07\\x03\\x1e\\x12\\x06\\x13\\x10\\x1aAN:TO\\x11A\\x1aT'\n",
            "XOR of ciphertext 6 and ciphertext 8: b'7\\x12\\x06K\\x0b\\x0e\\x01K:\\x0f\\x13A\\x07\\x1aCAP\\x07\\x17\\x13\\x00\\x01\\x01\\x1aN\\x10E\\x06\\x00C\\x05\\x0f\\r\\x14U\\x04G\\x08\\x07N\\x04\\x1cI\\x13\\x1aO\\x0cI\\x03\\x00\\x1d\\x07A\\x15\\nC\\x02SM\\x07\\x16\\n\\x0c\\x1b\\x05\\x0b\\x17\\x0cB\\r\\x06\\n\\x13\\x08\\x1c\\x03ST\\x00N\\x06\\nC\\x0eR\\x10_\\x03\\x16\\x19N\\x1d\\x06\\x06\\x07\\x00\\x08\\x1dDM\\x15\\x13\\x01\\x04O\\x07\\nDB\\x04N\\x04\\x05L\\x1b\\x04\\x07K\\x0b\\x0e\\x01\\x1c\\x08\\x1c\\x03SBE.\\x1dS\\x1b\\x00\\x07I'\n",
            "XOR of ciphertext 6 and ciphertext 9: b\" \\x18C\\x18\\x19\\x00\\x07\\x0eI\\x0f\\tDI\\x15E\\x05E\\x00\\x04\\x0fO\\x15\\x0b\\x1f\\x0b\\x15N\\x19\\x00\\r\\x1c\\x1dI8\\x1bED\\x0c\\x0cA\\x03\\rI\\x02\\x1aEBB\\x02\\x11\\x1bS\\x15\\x0f\\x00\\x00\\x0c\\x0bG\\x01\\x11\\x06\\x01\\x11\\x01E\\x0bFB\\x03\\x02\\x08\\x1c\\x0c\\x13\\x17\\x18E\\x0bN'\\x0eT\\x00N\\x1d\\x11A\\x0e\\x0eS\\x07\\t\\x06\\x11SI\\x12N\\tE\\x15\\x06\\x11I\\x06OP\\x17\\x17P\\x1f\\x1e\\x15\\x1c\\x01DA\\x04\\x06\\x1e\\x1e\\x15\\x0bD\\x07A\\x00:\\x01B\\x1b\\x08\\x1eI\"\n",
            "XOR of ciphertext 6 and ciphertext 10: b'#\\x07\\x05\\x0e\\x0e\\x15P\\x07\\x00\\x1d\\x13E\\x07\\x16R\\x12\\x00\\x1d\\x0b\\x17\\x00R\\x05I\\x1a\\x15A\\x17\\x0eC\\x1c\\x06\\x08\\x05U\\x0cSI\\x03E\\x16\\x06\\x1dC\\x1cOAB\\x08E\\x03\\x1f\\x00\\x1e\\x00DI\\x15O\\x00\\x12\\x02\\x1d\\x16\\x17KDi\\x16A\\x14\\n\\x04A\\x05\\x01\\x01EO\\x03\\x15\\x0bEAA\\x13\\x13\\x08\\r\\x18TT\\x18\\x13\\x1bM\\x00\\x1dE\\x03\\x11A\\x1c\\x1bC\\x1fOD\\x07\\x07A\\x04\\tA\\x18\\x17\\x01\\x00\\x04\\x00\\x06\\x1fA\\x06\\x0c\\x16\\x0eE1\\x1dS\\x03\\x04\\x1dC'\n",
            "XOR of ciphertext 6 and ciphertext 11: b'\\n\\x04\\x0f\\x07\\x02A\\x1e\\x12I\\x00\\x06M\\x0cSI\\x12\\x00\\x06\\x04\\r\\x06\\x13D\\x1a\\x0f\\x0bE\\x11\\x08@\\t\\x00\\rQ\\x1cEA\\x04NW\\x05\\x01\\x1d\\n\\x06GAAM\\x16\\x16\\x10\\x13\\x02\\x11\\x00\\x04\\x16S\\x01\\x04\\x04\\nR\\x02\\n\\x16\\x00+2C\\x08\\x1b\\x00\\x01\\x17SIO\\x06\\x1b\\x1fEAT\\x1c\\x17\\x18C\\x1cI\\x18\\x04A\\x16EI\\x12B\\x01\\x00A\\x1a\\x1b\\x00\\x10\\nC\\x10\\x1c\\x1a\\x18\\x14\\x0f\\x17\\r\\x0b\\x05\\x05\\x03L\\x02\\x12\\x13Z\\x1f@W#C\\\\\\x04\\x07\\x19M'\n",
            "XOR of ciphertext 7 and ciphertext 8: b\"\\x1a\\x01EP\\x0e\\x1d\\x13S6\\x12T\\x07\\x01\\x1bCC\\x1c\\x10\\x13\\x1eO\\x01\\x00\\x1fE\\x16\\x16\\x17\\x16\\x00\\x02\\x07D\\x16O\\x0f\\x00\\x12I,\\x12\\x17K\\x1d\\x13\\x1c\\x06\\x00\\x00\\x02N\\x1cA\\x01O\\x01\\x0eE\\x03U\\x12I\\x00\\x06\\x0f\\x1a\\x01CV\\t\\x17\\x12\\r\\x08\\x02GT\\x1b\\x1fI\\x11E\\n\\x01R\\x10E\\x07U'\\x00\\x00\\x1a\\x02\\x17\\x002\\x1a\\x05T\\x15\\x01O\\x03\\x06\\x1d\\x06\\x01\\x00\\x15\\x06\\x11IZ\\n\\x04\\rK\\x0c\\r\\x1f\\x0e\\x0e\\x0f\\x13I\\x03\\x0b\\x14I\\x1c\\nA\\x1d\\x1d\\x1c\"\n",
            "XOR of ciphertext 7 and ciphertext 9: b'\\r\\x0b\\x00\\x03\\x1c\\x13\\x15\\x16E\\x12N\\x02O\\x14E\\x07\\t\\x17\\x00\\x02\\x00\\x15\\n\\x1a\\x00\\x13\\x1d\\x08\\x16N\\x1b\\x15\\x00:\\x01N\\x03\\x16B#\\x15\\x06K\\x0c\\x13\\x16H\\x0b\\x01\\x13HH\\x15\\x1bEB\\x00\\x1d\\tS\\x15E\\r\\x0c\\x0bT\\x1d\\tV\\x07\\x13\\x10\\x02\\x0c\\rS\\x1f\\n\\x14I0A\\x1d\\x0fN\\x1d\\x0bEM0\\x1d\\x1a\\x15\\x02\\x01Ss\\x15\\x0f\\x10E\\x07H\\x16\\x00\\x1cC\\x15U\\x06\\x18\\nR\\x03\\r\\x01NA\\x03\\x05\\x00\\x0c\\x13\\x18T\\x1d\\x00N\\x00U\\r\\nI\\x04\\x1d\\x1d'\n",
            "XOR of ciphertext 7 and ciphertext 10: b\"\\x0e\\x14F\\x15\\x0b\\x06B\\x1f\\x0c\\x00T\\x03\\x01\\x17R\\x10L\\n\\x0f\\x1aOR\\x04L\\x11\\x13\\x12\\x06\\x18\\x00\\x1b\\x0eA\\x07O\\x07\\x14SM'\\x00\\r\\x1fM\\x15\\x1cK\\x0b\\x0bGP\\x04\\x00\\nE\\x06E\\x03\\x01R\\x16A\\x11\\x0b\\x1dZR&\\x02E\\x05\\x12\\x1aA\\x1bE\\x06\\nP\\x04\\x02D\\x0cNA\\x13\\t\\x0cN&\\x1aI\\x04\\x17\\x0bM:\\x1a\\x04\\x1a\\x11SR\\x1c\\n\\x05C\\x01E\\x16\\t\\x11EW\\t\\x17\\x0b\\x00\\x03\\x03\\x18\\rG\\x15\\x1c\\x0cO\\x0b\\x0bI\\x1c\\x12E\\x07\\x17\\x16\"\n",
            "XOR of ciphertext 7 and ciphertext 11: b'\\'\\x17L\\x1c\\x07R\\x0c\\nE\\x1dA\\x0b\\nRI\\x10L\\x11\\x00\\x00I\\x13E\\x1f\\x04\\r\\x16\\x00\\x1e\\x03\\x0e\\x08DS\\x06N\\x06\\x1e\\x005\\x13\\n\\x1f\\x04\\x0f\\x14K\\x08N\\x14E\\x0b\\x13\\x16TB\\x08\\x00\\x1dS\\x00G\\x06O\\x08\\x1b\\x00O?6R\\x10\\x05\\x00\\x1fST\\x06P\\x01\\x0cP\\x0cNT\\x1c\\r\\x1c\\x00\"\\x07\\x05\\x18E\\x06Es\\x15\\x03\\x18\\x00ST\\x1cI\\n\\x06\\x06R\\rR\\rX\\x19\\x06\\r\\x01\\x05\\x02\\x00R\\x10\\x14\\x00J\\x05\\x01\\x19\\x19\\x17\\x13\\x15F\\x03\\x19\\x1f'\n",
            "XOR of ciphertext 8 and ciphertext 9: b'\\x17\\nES\\x12\\x0e\\x06Es\\x00\\x1a\\x05N\\x0f\\x06D\\x15\\x07\\x13\\x1cO\\x14\\n\\x05E\\x05\\x0b\\x1f\\x00N\\x19\\x12D,NA\\x03\\x04\\x0b\\x0f\\x07\\x11\\x00\\x11\\x00\\nN\\x0b\\x01\\x11\\x06TT\\x1a\\nC\\x0eX\\n\\x06\\x07\\x0c\\r\\n\\x04N\\x1cJ\\x00\\x0e\\x04\\x02\\x0f\\x04\\x0f\\x14K\\x11\\x0b\\x00!\\x04\\x17\\x0e\\x1c\\rNB\\x18\\x17\\x1d\\x1a\\x0f\\x00\\x16SA\\x0f\\nDP\\x06\\x07\\x15\\x06\\x01E\\x14U\\x13\\x1e\\x1b\\x1bY\\x07\\x05C\\n\\x0f\\x08\\x1f\\x02\\x1d\\x17GT\\x03E\\x14\\x1c\\x11\\x00\\x08\\x19\\x00\\x01\\x0f'\n",
            "XOR of ciphertext 8 and ciphertext 10: b'\\x14\\x15\\x03E\\x05\\x1bQL:\\x12\\x00\\x04\\x00\\x0c\\x11SP\\x1a\\x1c\\x04\\x00S\\x04ST\\x05\\x04\\x11\\x0e\\x00\\x19\\t\\x05\\x11\\x00\\x08\\x14A\\x04\\x0b\\x12\\x1aTP\\x06\\x00M\\x0b\\x0bE\\x1e\\x18A\\x0b\\n\\x07KF\\x02\\x07\\x04\\x08\\x11\\r\\x12@SeTL\\x12\\x00\\x17I\\x19\\x02R\\x11OM\\x13\\x01\\x06O\\x13\\x03L\\x0b\\x1b\\x01\\x1aI\\x1e\\x15\\x1cM\\x08\\x00\\x01N\\x04R\\x1d\\x1f\\x0c\\x18E\\x00E\\x03\\x0f\\x00\\x0c\\r\\x03\\x13\\x06K\\x0f\\x0e\\x07\\x03I\\x1a\\x0fEL\\x00\\x1f\\x00\\x00\\x18\\x04\\x1a\\n\\nN'\n",
            "XOR of ciphertext 8 and ciphertext 11: b'=\\x16\\tL\\tO\\x1fYs\\x0f\\x15\\x0c\\x0bI\\nSP\\x01\\x13\\x1e\\x06\\x12E\\x00A\\x1b\\x00\\x17\\x08\\x03\\x0c\\x0f\\x00EIA\\x06\\x0cI\\x19\\x01\\x1dT\\x19\\x1c\\x08M\\x08N\\x16\\x0b\\x17R\\x17\\x1bC\\x06E\\x1e\\x06\\x12\\x0e\\x06I\\x07\\x01\\x01\\x0ci?E\\x02\\x08\\x08\\x1d\\x14\\x00\\x1dOH\\x1d\\x15\\x06O\\x06\\x0cH\\x1bU\\x05\\x07\\x05\\x02G\\x11EA\\x0f\\x06L\\x15R\\x1b\\x1fO\\x17\\x00\\x07R\\x18T\\x1c\\x11C\\x0c\\t\\x0cN\\x0e\\rM\\x1e\\x1a\\x0fYL\\x02\\x12\\r^\\x0f\\x1f\\x07\\x1e\\x04\\x03_'\n",
            "XOR of ciphertext 9 and ciphertext 10: b'\\x03\\x1fF\\x16\\x17\\x15W\\tI\\x12\\x1a\\x01N\\x03\\x17\\x17E\\x1d\\x0f\\x18OG\\x0eV\\x11\\x00\\x0f\\x0e\\x0eN\\x00\\x1bA=NI\\x17E\\x0f\\x04\\x15\\x0bTA\\x06\\n\\x03\\x00\\nT\\x18L\\x15\\x11\\x00DE\\x1e\\x08\\x01\\x03\\x04\\x1c\\x07\\x16\\x0eO/TB\\x16\\x02\\x18M\\x16\\x16\\x19\\x00DM2\\x05\\x11A\\x0f\\x0e\\x02I\\x03\\x16\\x07S\\x11\\x15\\n\\x1eI\\x0f\\x0b\\nTT\\x1a\\n\\n\\x19\\x00\\x14\\x10\\x10\\x11\\x1b\\x17T\\x04\\x16EA\\x00\\x06\\x18\\x01T\\rH\\x11OE\\x0b\\x1c\\x11\\x18\\x0c\\x03\\n\\x0bA'\n",
            "XOR of ciphertext 9 and ciphertext 11: b'*\\x1cL\\x1f\\x1bA\\x19\\x1c\\x00\\x0f\\x0f\\tEF\\x0c\\x17E\\x06\\x00\\x02I\\x06O\\x05\\x04\\x1e\\x0b\\x08\\x08M\\x15\\x1dDi\\x07\\x00\\x05\\x08B\\x16\\x06\\x0cT\\x08\\x1c\\x02\\x03\\x03O\\x07\\rC\\x06\\r\\x11\\x00\\x08\\x1d\\x14\\x00\\x15\\x02\\x0bC\\x03O\\x1dFi1A\\x00\\x07\\x0c\\x12\\x00K\\x0cDH<\\x11\\x11A\\x1a\\x01\\x06YM\\x12\\x1a\\x1f\\rG\\x07\\x16\\x00\\x00\\x0c\\x08ET\\x1c\\nI\\x16E\\x13\\x07\\x0bJ\\x07\\n\\x1a\\x0b\\x0cOD\\x01\\x05R\\x1c\\x07\\x18\\x1e\\x18\\x01W\\x19B\\x1e\\x1f\\x0f\\x07\\x04\\x02P\\x16\\x0c\\x1f'\n",
            "XOR of ciphertext 10 and ciphertext 11: b')\\x03\\n\\t\\x0cTN\\x15I\\x1d\\x15\\x08\\x0bE\\x1b\\x00\\x00\\x1b\\x0f\\x1a\\x06AAS\\x15\\x1e\\x04\\x06\\x06\\x03\\x15\\x06\\x05TII\\x12MM\\x12\\x13\\x07\\x00I\\x1a\\x08\\x00\\x03ES\\x15\\x0f\\x13\\x1c\\x11DM\\x03\\x1c\\x01\\x16\\x06\\x17D\\x15ARi=sW\\x02\\x1fA\\x04\\x16R\\x0c\\x00\\x05\\x0e\\x14\\x00\\x00\\x15\\x0f\\x04\\x10N\\x04\\x1dL\\x1cR\\r\\x08I\\x0f\\x07\\x02\\x11\\x00\\x06\\x00C\\x0fE\\x07\\x17\\x1b[\\x1c\\x1dN\\x0f\\x1a\\n\\x05\\x01\\x03J\\x1dS\\x15V\\tN\\x12\\x12^\\x0f\\x07\\x03\\x04\\x0e\\t\\x11'\n"
          ]
        }
      ]
    },
    {
      "cell_type": "markdown",
      "source": [
        "Converting the results into ascii for better analysis"
      ],
      "metadata": {
        "id": "5Rg8mYZzeC1S"
      }
    },
    {
      "cell_type": "code",
      "source": [
        "def xor_hex_strings(hex1, hex2):\n",
        "    bytes1 = bytes.fromhex(hex1)\n",
        "    bytes2 = bytes.fromhex(hex2)\n",
        "    xored = bytes(a ^ b for a, b in zip(bytes1, bytes2))\n",
        "    return xored\n",
        "\n",
        "def xor_and_convert_to_ascii(hex1, hex2):\n",
        "    bytes1 = bytes.fromhex(hex1)\n",
        "    bytes2 = bytes.fromhex(hex2)\n",
        "    xored = bytes(a ^ b for a, b in zip(bytes1, bytes2))\n",
        "    ascii_output = ''.join([chr(b) if 32 <= b <= 126 else '.' for b in xored])\n",
        "    return ascii_output\n",
        "\n",
        "for i in range(len(ciphertexts)):\n",
        "    for j in range(i + 1, len(ciphertexts)):\n",
        "        ascii_output = xor_and_convert_to_ascii(ciphertexts[i], ciphertexts[j])\n",
        "        print(f\"XOR of ciphertext {i+1} and ciphertext {j+1} in ASCII: {ascii_output}\")"
      ],
      "metadata": {
        "colab": {
          "base_uri": "https://localhost:8080/"
        },
        "id": "udpMYT9rKHh0",
        "outputId": "8992f939-f4d7-484e-a74d-2499edd1451a"
      },
      "execution_count": null,
      "outputs": [
        {
          "output_type": "stream",
          "name": "stdout",
          "text": [
            "XOR of ciphertext 1 and ciphertext 2 in ASCII: .E.....I....EM.O..C...S...SN..B..U..OL...S.....Wi$H..A.SS..U..TW.......L.D.AB.E.B..P.OS...T.E..E.R..LT......E...TT...N.A..EW..TH..E\n",
            "XOR of ciphertext 1 and ciphertext 3 in ASCII: .E..D..NW....A..M.SM.......T..NE.......N.......E-:A....SN..I...B..O.N.I..A....S.B.....S.....E.H......O..R..TA..TI......E..DW...O...\n",
            "XOR of ciphertext 1 and ciphertext 4 in ASCII: ...DI..O.....O.O.........E.E..A...A.SL...T.M...I('E..A..T..E...EPN.........EB.I....E..DW..T.N....R..@...DN..T...R....N.E..R.H.....N\n",
            "XOR of ciphertext 1 and ciphertext 5 in ASCII: .E..C..A..I..S.......S..G..D........D...G......Yi5U...S.P..R............LR.C..D...EI.OP..........R....O!O..TB...W...I..S..G..A.R.SP\n",
            "XOR of ciphertext 1 and ciphertext 6 in ASCII: ....M..K...T.SS.M.E.......ST..H........N...C.O..$6S....SI.OR...R...WB....A.D.EO...EAT.R...T.H..E.SA..A.....TB.U.L....N.O..A...Z. ..\n",
            "XOR of ciphertext 1 and ciphertext 7 in ASCII: !.E.H..S..I..RS...A.E......E.FO.Q...G.E,...M...I'4....S.E....O.O....V....A....P..L.NT.H.R<..T..E>T...SO.I............N.L..G....N.SO\n",
            "XOR of ciphertext 1 and ciphertext 8 in ASCII: ;..DF...$....I.O..R.....G..R.FM...A.G.....HP...I'6N.L...KD.U...I...[.....I.GB.OA...O........N..E.N.L.R..O.......IY.....A..I..A.E..S\n",
            "XOR of ciphertext 1 and ciphertext 9 in ASCII: ,.E.T..EW...EF....A.E......M..T.Q<.LD.....HA..QB&'HC...SE..S...C.N.......M.S..DA1..A..CW....A...MA..LT..I.O.U...R...I..I..T.H.....B\n",
            "XOR of ciphertext 1 and ciphertext 10 in ASCII: /...C.LL.....E..M.N..S.A...C.FT...A.SL........RB,sP........R...D.@O>TW.....E..........A....EP....N......C.O.E...ET...N.O......TE..S\n",
            "XOR of ciphertext 1 and ciphertext 11 in ASCII: ....OT.YW.......M.A...S....E.EA..U.LA.E....I..RAi E....SM..S.......Wi$I..A.SB.........E.R...LT..MA..........R.O.X....K.LW.S.V..W.D\\\n",
            "XOR of ciphertext 2 and ciphertext 3 in ASCII: ....D...T...S..ES..R..F...A....E.H..OI.O.H......D....L........A...T.C.HT...AM......P.I....E...TO.R..C...R..T...E.N...P........F...E\n",
            "XOR of ciphertext 2 and ciphertext 4 in ASCII: .H.MI.......I.....C...D..GM......ST........M....A......O......L.II.....S.D......C....E.O.......V.....T..DI.......E.........EI.TH...\n",
            "XOR of ciphertext 2 and ciphertext 5 in ASCII: ....C.....N.E..A..C..TA.S.U...B..C...I..NN...........YIA......TW.......GI...O...N.O.......E.E..V....DZH6O..T.....A..DM.....E.TA..R.\n",
            "XOR of ciphertext 2 and ciphertext 6 in ASCII: .A..M......GI.YAS.....D..........Q..OI.O.O.C.N.WM....G....O...O....EO..K....SL..T.O.YT............O.E......T..N..A.........R...H,.E\n",
            "XOR of ciphertext 2 and ciphertext 7 in ASCII: &RA.H.....N.O.YC....E.E...S..M..RS...SD-.D.M....N.H..SIB...U.DC.....[..S...AT...CC..YT..M0N.....5...E.H.I...E...TW.........A..O..R.\n",
            "XOR of ciphertext 2 and ciphertext 8 in ASCII: <S.MF..I'...N.........E.S.E..M...ET..A...STP....N...TR.C.H....C....I...A.......TR....D^...N........MP...O...E........K.....N.TL....\n",
            "XOR of ciphertext 2 and ciphertext 9 in ASCII: +YA.T...T......D....E.O...N.....Ri.W.E...BTA..L.O..A.H........N..I.....C....K..Ts....I.O..S....SF.......I.N......T..DA.....YI.OH...\n",
            "XOR of ciphertext 2 and ciphertext 10 in ASCII: (F..C.Q.....N..SS....TAM..A..M...TT......I....O.EW...Y.DS.....R..GT,YO.A.D..R.E.A..P.G....TT...M....TT..C.N...............ET.......\n",
            "XOR of ciphertext 2 and ciphertext 11 in ASCII: .E..OW..T...EM.SS.........E..N.....W.MD..N.I..O......E........EW...Ed<HC......E.O..P.H..M.I..X.EF...ET........T..N......M..AW.N..E.\n",
            "XOR of ciphertext 3 and ciphertext 4 in ASCII: .H.I....R......EI.SH.....M.....G..A.SI.O.O.M.........L.O........WEI.N.U..A.EM...C..E...C..E...O..R..OO...E.N...P.....P.....EB..O..NI.\n",
            "XOR of ciphertext 3 and ciphertext 5 in ASCII: ........R.E.....G.SI.N..R.....NR....D..GN.......D.....YA.......B..E.N.H.H..C....N.EI.I......E.E..R...AV6.......K....R......E.E...EP..\n",
            "XOR of ciphertext 3 and ciphertext 6 in ASCII: .A......I..S..G....C......A....N...........C.M.E..........T.......DA..C....D.U..T.EAD.....E...TO.SU.....R.....DP.....P.....R..HO;....\n",
            "XOR of ciphertext 3 and ciphertext 7 in ASCII: .RH.....E.E...G.L..NI........O.FT...G.Sb...M......A...YB...I.E....R...R.........CB.ND...O#....DO!T....V....EA..EI....P.....A.....EO.T\n",
            "XOR of ciphertext 3 and ciphertext 8 in ASCII: 4S.I...Ns......EP..P....R....O.A..A.G..N..TP........E..C.O........SMN.E....GM..TR..O..^.......SO.N.N.......DA..T.C.........N.E....S..\n",
            "XOR of ciphertext 3 and ciphertext 9 in ASCII: #YH.........S...E..LI..........ST!.TD..A..TA..N....T.............EO.N.A....S...Ts..A...C......E.RA..C.....DP...O....R......YB..O..B..\n",
            "XOR of ciphertext 3 and ciphertext 10 in ASCII:  F....F.I..........T.N.O.....O.H..A.SI.E......M..I.....DN........K.(.DW..A.E..S.A..........R..O..N...O....DD...T.N...P....DT..F...S..\n",
            "XOR of ciphertext 3 and ciphertext 11 in ASCII: .E...D.......A.....N..F......L.N.H.TA.SW...I..M.D..............B..RA'7.....SM.S.O.......O....DB.RA...O..R..C..^H.....U..J..A\\....R\\..\n",
            "XOR of ciphertext 4 and ciphertext 5 in ASCII: .H.A......A....A.....D..NA....A...O..I..TI.M....A....YN........ELH......TR..O.....V..E.L..E.N.......H.A=.M.N........DM......SI.R.A.R..\n",
            "XOR of ciphertext 4 and ciphertext 6 in ASCII: ...K.......T..NAI.E......GM.......U.SI.O.H...E.I.....G.O..C....._E.TB....A..SD....V.R..A.......V..E.IA..DT.N..R.............D.Z.*.NW..\n",
            "XOR of ciphertext 4 and ciphertext 7 in ASCII: ;.EP......A...NC..A.I....A...S..E.O..SN-.C........E..SN....E.B..UT..V....A.ET....O..R..EO'N....V6...ISA..N..T...R...........T..N.A.FB.\n",
            "XOR of ciphertext 4 and ciphertext 8 in ASCII: !......O!.........R.....NW...S.......A...TI.........YR...I......ZN.X.....I.....S......IB..N....V...D\\R...S..T....H...K......GI.E...L..\n",
            "XOR of ciphertext 4 and ciphertext 9 in ASCII: 6.ES....R...I..D..A.I....R......E:NI.E...EI...G....L.H.O........^........M..K..S0.........S.....E....T...RI.........DA.............L..\n",
            "XOR of ciphertext 4 and ciphertext 10 in ASCII: 5..E..E........SI.N..D.E.R...S...........N.M..D..T...Y..T.......H.I=TM......R.I....E...I..TU........X....KI......E........R.H.TE...T..\n",
            "XOR of ciphertext 4 and ciphertext 11 in ASCII: ...L.N..R....O.SI.A...D..L...P...SII.MN..I....D.A....E.O.......E]O.Ti>U..A....I....E...YO.I..C..E...I...DD....H.........X......W.V.S..\n",
            "XOR of ciphertext 5 and ciphertext 6 in ASCII: .A........GM..S.G.E..R..N.U...H.....D..GW..C.N.YM.....EA..A....R...NB...W....R......ST....E.H..V..S..ON'O.....C.....DM.......SOR,TP...U\n",
            "XOR of ciphertext 5 and ciphertext 7 in ASCII: .RB...........S...A.NR..E....OO.E.....N%A..M....N.U........R.N.O....V...I..C.....GI.ST..A,..T..V6....]. ...EB...W...NM.......I......O...\n",
            "XOR of ciphertext 5 and ciphertext 8 in ASCII: 4S.A...A!.T....A..R..S.......OM...O.....S.SP....N...L.O..P.....I...B....D...O..I..C..D].....N..V...E.\\O#...DB....L..C............I.......\n",
            "XOR of ciphertext 5 and ciphertext 9 in ASCII: #YB.....R.N.E.....A.NG..E.....T.E*.R....T.SA..O.O..L..EA.......C.H......K......I=.T..I.L....A...E...DZH6..EP................ST.R.U........\n",
            "XOR of ciphertext 5 and ciphertext 10 in ASCII:  F....T...T.....G.N....NT....OT...O..I..A.....L.EF....E.P......D.FE'TT..SR....D...EI.G.....DP.........R<..ED.....A..EM....G..EA..I......E\n",
            "XOR of ciphertext 5 and ciphertext 11 in ASCII: .E...K..R.A..S..G.A..AA.A....LA..C.R..N.R..I..L.......TA...........Ni'H.L...O.D...EI.H..A...LR..E.....T<O..C..Y.....OH..M...ML..........T.\n",
            "XOR of ciphertext 6 and ciphertext 7 in ASCII: -.C.......GF....L...O.....S..C..I...G.Nb.....S.I..S...EB..NR.C.....O.......D.O...OI.....C>N.....:.A...N.I..EB.H.L.............AN:TO.A.T\n",
            "XOR of ciphertext 6 and ciphertext 8 in ASCII: 7..K...K:..A..CAP.......N.E..C....U.G..N..I..O.I....A..C.SM.........B.......ST.N..C.R._...N.......DM....O..DB.N..L...K.......SBE..S...I\n",
            "XOR of ciphertext 6 and ciphertext 9 in ASCII:  .C.....I..DI.E.E...O.....N.....I8.ED..A..I..EBB...S......G......E.FB........E.N'.T.N..A..S....SI.N.E...I.OP..P.....DA......D.A.:.B...I\n",
            "XOR of ciphertext 6 and ciphertext 10 in ASCII: #.....P....E..R......R.I..A..C....U.SI.E...C.OAB.E.....DI.O......KDi.A...A...EO...EAA.....TT...M..E..A..C.OD..A..A........A....E1.S...C\n",
            "XOR of ciphertext 6 and ciphertext 11 in ASCII: .....A..I..M.SI.......D...E..@...Q.EA.NW.....GAAM.........S....R....+2C.....SIO...EAT...C.I..A.EI.B..A.....C............L...Z.@W#C\\...M\n",
            "XOR of ciphertext 7 and ciphertext 8 in ASCII: ..EP...S6.T...CC....O...E.......D.O...I,..K.......N.A.O..E.U.I.....CV......GT..I.E..R.E.U'......2..T..O.........IZ...K.......I...I..A...\n",
            "XOR of ciphertext 7 and ciphertext 9 in ASCII: ........E.N.O.E..............N...:.N..B#..K...H...HH..EB...S.E...T..V......S...I0A..N..EM0.....Ss...E.H...C.U...R...NA......T..N.U..I...\n",
            "XOR of ciphertext 7 and ciphertext 10 in ASCII: ..F...B...T...R.L...OR.L........A.O..SM'...M..K..GP...E.E..R.A...ZR&.E...A.E..P..D.NA...N&.I...M:....SR...C.E...EW........G...O..I..E...\n",
            "XOR of ciphertext 7 and ciphertext 11 in ASCII: '.L..R..E.A..RI.L...I.E.........DS.N...5......K.N.E...TB...S.G.O...O?6R....ST.P..P.NT....\"...E.Es....ST.I...R.R.X.......R...J.......F...\n",
            "XOR of ciphertext 8 and ciphertext 9 in ASCII: ..ES...Es...N..D....O...E....N..D,NA..........N....TT..C.X.......N.J........K...!.....NB.......SA..DP.....E.U....Y..C.......GT.E.........\n",
            "XOR of ciphertext 8 and ciphertext 10 in ASCII: ...E..QL:......SP....S.ST............A....TP..M..E..A...KF.......@SeTL...I..R.OM...O..L....I...M...N.R....E.E........K....I..EL.........N\n",
            "XOR of ciphertext 8 and ciphertext 11 in ASCII: =..L.O.Ys....I.SP.....E.A........EIA..I...T...M.N...R..C.E.....I....i?E.......OH...O..H.U....G.EA..L.R..O...R.T..C...N..M...YL...^......_\n",
            "XOR of ciphertext 9 and ciphertext 10 in ASCII: ..F...W.I...N...E...OG.V.....N..A=NI.E....TA.....T.L...DE.........O/TB...M....DM2..A...I...S....I...TT...........T..EA....T.H.OE........A\n",
            "XOR of ciphertext 9 and ciphertext 11 in ASCII: *.L..A......EF..E...I.O......M..Di....B...T.....O..C...........C.O.Fi1A.....K.DH<..A...YM....G......ET..I.E...J.....OD..R......W.B......P...\n",
            "XOR of ciphertext 10 and ciphertext 11 in ASCII: )....TN.I....E.......AAS.........TII.MM....I....ES.....DM......D.ARi=sW..A..R...........N..L.R..I.......C.E...[..N......J.S.V.N..^.......\n"
          ]
        }
      ]
    },
    {
      "cell_type": "markdown",
      "source": [
        "Decrypting all ciphertexts..."
      ],
      "metadata": {
        "id": "uS-T98GMX8Yk"
      }
    },
    {
      "cell_type": "code",
      "source": [
        "import sys\n",
        "from operator import methodcaller\n",
        "import re\n",
        "\n",
        "def main():\n",
        "    cyphertexts = [\n",
        "    \"260f02174c1f094918070c030c5315070601530c0d15180901131e430d1057170810081952050a1f12020a430b170442202649141e1806165715194a0419104a180f07114b11000309550d53040e440b0a0d0158190c4e01180f1c01460703041b4e02141a42061455040b1f480406154b1a041a11001d421f1e481d03051543070542\",\n",
        "    \"214a061e4c1c14001b1c0b10491e1f48180110130d124b0515114d0d171b15170b451d021d490b1e1b511643061619154902011606591c450419191f0612441d01081c034609014f0c1101124607011e48020b0814431d1907034810030b1f41101c0c155616010355030a1f0d141d041f4e170d1c4e0a03051e0d4a0210410b0b0407\",\n",
        "    \"294a0f1a080f03074f1800041a12010d4b0d004101080d07141b0c170b1919520d0d080152001c511b19164304151b070d1c080317150c45191e0203091305081f0448070502491b0d1410530b1e171e48030158090a1d1505100d1603174b0e044e1616150d1f03070f004b09081741020002060a1e0807020f0c4a0901070c1c1342111a\",\n",
        "    \"3c020253050500061d180403001c0848020a530901020f0d08560006110516151c16491c0149011e01560b0e001d120b08010c1b0b591b0a0318150f0b14080f484101124b0b1c1c11550616460f0d190b0e121d1f060a560514481108100417131c061c5a420808114a0d051c030111190b02061c4e180710051a0f4b0d15430d170c580c03\",\n",
        "    \"294a05120f0011081d11451a0c0015090c01530806460a06461718070b1957001c06060716000116551f114302161a1b49131c1b1e005504070117180f18104a04090d084b1201084507011009190003060644111e431e1a0b1f0d0046010e17131c101d124c49351a07014b0a07100a1c0f040758031f11050b0f0f184400110b56120a01021d10010e\",\n",
        "    \"2a0b0418010a1502061b0257000046094b16160207140f0108114d1707151f1c10141c1052000151021e0b000558174204101a04131e10451e0256180f150b1817040c4609070a0412141617154b0b041c0e44194d171c17090d48100e121f411f1d431513030712551e0b4b0a035311070f0f061c4e1c0d041d09180f174f432702420f0f1548\",\n",
        "    \"071847030419071a0a0645110601460b0701120f48140e0403171e06115618145916061b151a4f331415090e0c0b1d0b0712491f130a55071214184a0b5607051d151a091d031b1c0c140853120414030b410d164d1706134a33060d12160f41251a020c131149151c04070e48121b044b191e06164e1b0e1a0f0f0b1f0d0e0d1d560d1e4e0f1c00\",\n",
        "    \"1d1902530a0414493c141116071a05481b11011107150e1b4601081107561a131d0049141508061f060242131f171b0b07100703520b1a061c511b1f191f0703120f1b4a4b0a0c0e011c0a14461f0b4a1a0407171f0743141f14060d0814184117000758061006161a19010f48071d15024314021b051703050101040c440d06091f11140f12011c0a\",\n",
        "    \"0a134700180a120c4f140b134915030c0e16120d4801041e0304030e07180301592c0755160c0d10011342021f1d55000601015706111045120911191e130a09164107004b04080c0e1805000d0e004a3b001019030a0d5607031b1707140e12560f0d1c561601031c18441b1d14030e191a1307580f180b1a031c134b100e431d030014070b011d05060711\",\n",
        "    \"090c01160f1f4505060611120716141b4b0b1d1507460a4812040c000956031a1811491c0149021414181643191756000c55191b13001001571719181d17160e004f482f1f461e0e16551316140e4407090501580c040f1f04151c441601040c1f00061602421b091601440f0d0412150e4e17111d4e180d0202481e03014106161f110c0b080b1644\",\n",
        "    \"200f0b1f034b0b104f1b041a0c530f1b4b10120f01074b1b071a08060f55161c1d45005513044f06071f160a031f560349060c14001c01451a1405190b11014a150e1a462235490c091417004602440207110158190b0b0f4a1101080a530904560f011413421d09550e01081a1f49091300180b174b190e481f1b0b55080f1404411e0b080c051f55100b0e\",\n",
        "    ]\n",
        "\n",
        "    cyphertextsTobytes = [bytes.fromhex(cipher) for cipher in ciphertexts]\n",
        "\n",
        "    crib = \"secret message\"\n",
        "    xoredstring1 = 0\n",
        "    xoredstring2 = 1\n",
        "\n",
        "    xoredText = strxor(cyphertextsTobytes[xoredstring1], cyphertextsTobytes[xoredstring2])\n",
        "\n",
        "    strlen = len(xoredText)\n",
        "    for i in range(strlen):\n",
        "            substrXoredstring = xoredText[i:]\n",
        "            cribDragged = strxor(substrXoredstring,crib)\n",
        "\n",
        "            if(isreadable(cribDragged)):\n",
        "                display(i, cribDragged, strlen, '.')\n",
        "\n",
        "    print (\"\\n\\nGuessing key:\")\n",
        "    key = strxor(cyphertextsTobytes[xoredstring1], crib)\n",
        "    print(\"key: %s\" % key.hex())\n",
        "\n",
        "    print (\"\\n\\nDecrypt all ciphertexts using the key:\")\n",
        "    for j, cypher in enumerate(cyphertextsTobytes) :\n",
        "            print (\"[%d] %s\" % (j, strxor(cypher, key)))\n",
        "\n",
        "def strxor(a, b):\n",
        "    if isinstance(a, str):\n",
        "        a = a.encode('utf-8')\n",
        "    if isinstance(b, str):\n",
        "        b = b.encode('utf-8')\n",
        "    return bytes([x ^ y for x, y in zip(a, b)])\n",
        "\n",
        "def isreadable(text):\n",
        "    return bool(re.search('^[a-zA-Z0-9\\., \\'\\\"\\-_\\:\\(\\)]+$', text.decode('utf-8', errors='ignore')))\n",
        "\n",
        "def display(i, code, maxLen, filler):\n",
        "    prefix =  filler*i\n",
        "    ln = len(code)\n",
        "    postfix = filler*(maxLen-i-ln)\n",
        "    print(\"%s%s%s\" % (prefix,code,postfix))\n",
        "\n",
        "main()"
      ],
      "metadata": {
        "colab": {
          "base_uri": "https://localhost:8080/"
        },
        "id": "c6c9vEaPgDMH",
        "outputId": "69433f79-e2d8-43df-d916-5e4c0e6c88c6"
      },
      "execution_count": null,
      "outputs": [
        {
          "output_type": "stream",
          "name": "stdout",
          "text": [
            "............b'seyn(eania sal'.........................................................................................................\n",
            ".....................b'a6qtlbeo 2xt2m'................................................................................................\n",
            ".................................................b'S class do not'....................................................................\n",
            "...........................................................................................b'z)7xe9anezszze'..........................\n",
            "...........................................................................................................................b'e3nh2wd1'\n",
            ".................................................................................................................................b'79'\n",
            "\n",
            "\n",
            "Guessing key:\n",
            "key: 556a6165296b29247d747f626b36\n",
            "\n",
            "\n",
            "Decrypt all ciphertexts using the key:\n",
            "[0] b'secret message'\n",
            "[1] b't g{ew=$fhtr\"('\n",
            "[2] b'| n\\x7f!d*#2l\\x7ffq$'\n",
            "[3] b'ihc6,n)\"`l{ak*'\n",
            "[4] b'| dw&k8,`e:xg6'\n",
            "[5] b'\\x7fae}(a<&{o}5k6'\n",
            "[6] b'Rr&f-r.>wr:sm7'\n",
            "[7] b'Hsc6#o=mA`ntl,'\n",
            "[8] b'_y&e1a;(2`tq\"#'\n",
            "[9] b'\\\\f`s&tl!{rnpl '\n",
            "[10] b'uejz* \"42o{xge'\n",
            "\n",
            "Position  Decrypted Text                                              \n",
            "----------------------------------------------------------------------\n",
            "[0       ] secret message                                              \n"
          ]
        }
      ]
    },
    {
      "cell_type": "code",
      "source": [
        "import sys\n",
        "from operator import methodcaller\n",
        "import re\n",
        "\n",
        "def main():\n",
        "    cyphertexts = [\n",
        "    \"260f02174c1f094918070c030c5315070601530c0d15180901131e430d1057170810081952050a1f12020a430b170442202649141e1806165715194a0419104a180f07114b11000309550d53040e440b0a0d0158190c4e01180f1c01460703041b4e02141a42061455040b1f480406154b1a041a11001d421f1e481d03051543070542\",\n",
        "    \"214a061e4c1c14001b1c0b10491e1f48180110130d124b0515114d0d171b15170b451d021d490b1e1b511643061619154902011606591c450419191f0612441d01081c034609014f0c1101124607011e48020b0814431d1907034810030b1f41101c0c155616010355030a1f0d141d041f4e170d1c4e0a03051e0d4a0210410b0b0407\",\n",
        "    \"294a0f1a080f03074f1800041a12010d4b0d004101080d07141b0c170b1919520d0d080152001c511b19164304151b070d1c080317150c45191e0203091305081f0448070502491b0d1410530b1e171e48030158090a1d1505100d1603174b0e044e1616150d1f03070f004b09081741020002060a1e0807020f0c4a0901070c1c1342111a\",\n",
        "    \"3c020253050500061d180403001c0848020a530901020f0d08560006110516151c16491c0149011e01560b0e001d120b08010c1b0b591b0a0318150f0b14080f484101124b0b1c1c11550616460f0d190b0e121d1f060a560514481108100417131c061c5a420808114a0d051c030111190b02061c4e180710051a0f4b0d15430d170c580c03\",\n",
        "    \"294a05120f0011081d11451a0c0015090c01530806460a06461718070b1957001c06060716000116551f114302161a1b49131c1b1e005504070117180f18104a04090d084b1201084507011009190003060644111e431e1a0b1f0d0046010e17131c101d124c49351a07014b0a07100a1c0f040758031f11050b0f0f184400110b56120a01021d10010e\",\n",
        "    \"2a0b0418010a1502061b0257000046094b16160207140f0108114d1707151f1c10141c1052000151021e0b000558174204101a04131e10451e0256180f150b1817040c4609070a0412141617154b0b041c0e44194d171c17090d48100e121f411f1d431513030712551e0b4b0a035311070f0f061c4e1c0d041d09180f174f432702420f0f1548\",\n",
        "    \"071847030419071a0a0645110601460b0701120f48140e0403171e06115618145916061b151a4f331415090e0c0b1d0b0712491f130a55071214184a0b5607051d151a091d031b1c0c140853120414030b410d164d1706134a33060d12160f41251a020c131149151c04070e48121b044b191e06164e1b0e1a0f0f0b1f0d0e0d1d560d1e4e0f1c00\",\n",
        "    \"1d1902530a0414493c141116071a05481b11011107150e1b4601081107561a131d0049141508061f060242131f171b0b07100703520b1a061c511b1f191f0703120f1b4a4b0a0c0e011c0a14461f0b4a1a0407171f0743141f14060d0814184117000758061006161a19010f48071d15024314021b051703050101040c440d06091f11140f12011c0a\",\n",
        "    \"0a134700180a120c4f140b134915030c0e16120d4801041e0304030e07180301592c0755160c0d10011342021f1d55000601015706111045120911191e130a09164107004b04080c0e1805000d0e004a3b001019030a0d5607031b1707140e12560f0d1c561601031c18441b1d14030e191a1307580f180b1a031c134b100e431d030014070b011d05060711\",\n",
        "    \"090c01160f1f4505060611120716141b4b0b1d1507460a4812040c000956031a1811491c0149021414181643191756000c55191b13001001571719181d17160e004f482f1f461e0e16551316140e4407090501580c040f1f04151c441601040c1f00061602421b091601440f0d0412150e4e17111d4e180d0202481e03014106161f110c0b080b1644\",\n",
        "    \"200f0b1f034b0b104f1b041a0c530f1b4b10120f01074b1b071a08060f55161c1d45005513044f06071f160a031f560349060c14001c01451a1405190b11014a150e1a462235490c091417004602440207110158190b0b0f4a1101080a530904560f011413421d09550e01081a1f49091300180b174b190e481f1b0b55080f1404411e0b080c051f55100b0e\",\n",
        "    ]\n",
        "\n",
        "    cyphertextsTobytes = [bytes.fromhex(cipher) for cipher in ciphertexts]\n",
        "\n",
        "    crib = \"need rh write some messages of equal length for IS class do not know will i be able to write them all or not but\"\n",
        "    xoredstring1 = 0\n",
        "    xoredstring2 = 1\n",
        "\n",
        "    xoredText = strxor(cyphertextsTobytes[xoredstring1], cyphertextsTobytes[xoredstring2])\n",
        "\n",
        "    strlen = len(xoredText)\n",
        "    for i in range(strlen):\n",
        "            substrXoredstring = xoredText[i:]\n",
        "            cribDragged = strxor(substrXoredstring,crib)\n",
        "\n",
        "            if(isreadable(cribDragged)):\n",
        "                display(i, cribDragged, strlen, '.')\n",
        "\n",
        "    print (\"\\n\\nGuessing key:\")\n",
        "    key = strxor(cyphertextsTobytes[xoredstring1], crib)\n",
        "    print(\"key: %s\" % key.hex())\n",
        "\n",
        "    print (\"\\n\\nDecrypt all ciphertexts using the key:\")\n",
        "    for j, cypher in enumerate(cyphertextsTobytes) :\n",
        "            print (\"[%d] %s\" % (j, strxor(cypher, key)))\n",
        "\n",
        "def strxor(a, b):\n",
        "    if isinstance(a, str):\n",
        "        a = a.encode('utf-8')\n",
        "    if isinstance(b, str):\n",
        "        b = b.encode('utf-8')\n",
        "    return bytes([x ^ y for x, y in zip(a, b)])\n",
        "\n",
        "def isreadable(text):\n",
        "    return bool(re.search('^[a-zA-Z0-9\\., \\'\\\"\\-_\\:\\(\\)]+$', text.decode('utf-8', errors='ignore')))\n",
        "\n",
        "def display(i, code, maxLen, filler):\n",
        "    prefix =  filler*i\n",
        "    ln = len(code)\n",
        "    postfix = filler*(maxLen-i-ln)\n",
        "    print(\"%s%s%s\" % (prefix,code,postfix))\n",
        "\n",
        "main()"
      ],
      "metadata": {
        "colab": {
          "base_uri": "https://localhost:8080/"
        },
        "id": "LocRBSakffEd",
        "outputId": "ea7409cc-302a-4677-cdc3-2650581edec1"
      },
      "execution_count": null,
      "outputs": [
        {
          "output_type": "stream",
          "name": "stdout",
          "text": [
            "b\"i am quiting my secret msg number two don't know what i should write-oh idea let copy some text from the interne\"...................\n",
            "............................................................................................................................b'op1,,s-'\n",
            "..............................................................................................................................b':-iee'\n",
            "................................................................................................................................b'bd '\n",
            ".................................................................................................................................b'o '\n",
            "\n",
            "\n",
            "Guessing key:\n",
            "key: 486a67736c6d61696f756577697366686b64736168666b6866766d63627677727965697572696f71757662636d78766269756977727975657771766a6a76646a736168666b66696f65756473666b646a686164786d636e766a66686466736b61766e637876626966756a646b68667361\n",
            "\n",
            "\n",
            "Decrypt all ciphertexts using the key:\n",
            "[0] b'need rh write some messages of equal length for IS class do not know will i be able to write them all or not but'\n",
            "[1] b\"i am quiting my secret msg number two don't know what i should write-oh idea let copy some text from the interne\"\n",
            "[2] b'a hidbbn message is information that is not immediately noticeable and that must be discovered or uncovered and '\n",
            "[3] b'the ihaormation in hidden messages is not immediately noticeable; it must be discovered or uncovered, and interp'\n",
            "[4] b'a bacmpard message in an audio recording is only fully apparent when thg recording is played reversed. Some back'\n",
            "[5] b'backmgtking is a recording technique in which a message is recorded backwards onto a track that is meant to be p'\n",
            "[6] b'Or phtfses for clean releases of songs Backmasking has been a controversial topic in the United States since the'\n",
            "[7] b'Use fiu Satanic purposes were made against prominent rock musicians, leading to record-burnings and proposed ant'\n",
            "[8] b'By stgse and federal governments In debate are#both the exgstence of backmasked Satanic messages and their purpo'\n",
            "[9] b'Affecr$listeners onto a track that is meant to be played forwards. It was were made against prominent rock debat'\n",
            "[10] b'hello&jy name is tania saleem#and i am writing a secret message for IS class i hope they will be able to decry:h'\n"
          ]
        }
      ]
    },
    {
      "cell_type": "markdown",
      "source": [
        "\n",
        "\n",
        "---\n",
        "\n"
      ],
      "metadata": {
        "id": "Vdvv_Ph8o2Dj"
      }
    }
  ]
}